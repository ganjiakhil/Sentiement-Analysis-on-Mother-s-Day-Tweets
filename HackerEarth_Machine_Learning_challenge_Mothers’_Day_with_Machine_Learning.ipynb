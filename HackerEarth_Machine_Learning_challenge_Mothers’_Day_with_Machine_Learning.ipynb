{
  "cells": [
    {
      "cell_type": "code",
      "execution_count": 1,
      "metadata": {
        "colab": {
          "base_uri": "https://localhost:8080/",
          "height": 201
        },
        "colab_type": "code",
        "id": "kXtWglDas0Vv",
        "outputId": "4e8f3be4-5704-46fa-b05d-67ae119c608b"
      },
      "outputs": [
        {
          "name": "stdout",
          "output_type": "stream",
          "text": [
            "--2020-06-10 17:28:11--  https://he-s3.s3.amazonaws.com/media/hackathon/hackerearth-test-draft-1-102/predicting-tweet-sentiments-231101b4/fa62f5d69a9f11ea.zip\n",
            "Resolving he-s3.s3.amazonaws.com (he-s3.s3.amazonaws.com)... 52.219.124.8\n",
            "Connecting to he-s3.s3.amazonaws.com (he-s3.s3.amazonaws.com)|52.219.124.8|:443... connected.\n",
            "HTTP request sent, awaiting response... 200 OK\n",
            "Length: 510744 (499K) [application/zip]\n",
            "Saving to: ‘fa62f5d69a9f11ea.zip’\n",
            "\n",
            "fa62f5d69a9f11ea.zi 100%[===================>] 498.77K   451KB/s    in 1.1s    \n",
            "\n",
            "2020-06-10 17:28:13 (451 KB/s) - ‘fa62f5d69a9f11ea.zip’ saved [510744/510744]\n",
            "\n"
          ]
        }
      ],
      "source": [
        "!wget https://he-s3.s3.amazonaws.com/media/hackathon/hackerearth-test-draft-1-102/predicting-tweet-sentiments-231101b4/fa62f5d69a9f11ea.zip"
      ]
    },
    {
      "cell_type": "code",
      "execution_count": 1,
      "metadata": {
        "colab": {
          "base_uri": "https://localhost:8080/",
          "height": 84
        },
        "colab_type": "code",
        "id": "LYRo225Rs9x6",
        "outputId": "87fdb266-1829-4ddf-a679-bbb95473645b"
      },
      "outputs": [
        {
          "name": "stdout",
          "output_type": "stream",
          "text": [
            "Archive:  fa62f5d69a9f11ea.zip\n",
            "   creating: dataset/\n",
            "  inflating: dataset/train.csv       \n",
            "  inflating: dataset/test.csv        \n"
          ]
        }
      ],
      "source": [
        "!unzip fa62f5d69a9f11ea.zip"
      ]
    },
    {
      "cell_type": "code",
      "execution_count": 73,
      "metadata": {
        "colab": {},
        "colab_type": "code",
        "id": "x4nDFTuktela"
      },
      "outputs": [],
      "source": [
        "import pandas as pd\n",
        "import numpy as np\n",
        "import matplotlib.pyplot as plt\n",
        "%matplotlib inline"
      ]
    },
    {
      "cell_type": "code",
      "execution_count": 74,
      "metadata": {
        "colab": {},
        "colab_type": "code",
        "id": "n79PrHkFti56"
      },
      "outputs": [],
      "source": [
        "train = pd.read_csv('dataset/train.csv')\n",
        "test = pd.read_csv('dataset/test.csv')"
      ]
    },
    {
      "cell_type": "code",
      "execution_count": 75,
      "metadata": {},
      "outputs": [
        {
          "data": {
            "text/html": [
              "<div>\n",
              "<style scoped>\n",
              "    .dataframe tbody tr th:only-of-type {\n",
              "        vertical-align: middle;\n",
              "    }\n",
              "\n",
              "    .dataframe tbody tr th {\n",
              "        vertical-align: top;\n",
              "    }\n",
              "\n",
              "    .dataframe thead th {\n",
              "        text-align: right;\n",
              "    }\n",
              "</style>\n",
              "<table border=\"1\" class=\"dataframe\">\n",
              "  <thead>\n",
              "    <tr style=\"text-align: right;\">\n",
              "      <th></th>\n",
              "      <th>id</th>\n",
              "      <th>original_text</th>\n",
              "      <th>lang</th>\n",
              "      <th>retweet_count</th>\n",
              "      <th>original_author</th>\n",
              "      <th>sentiment_class</th>\n",
              "    </tr>\n",
              "  </thead>\n",
              "  <tbody>\n",
              "    <tr>\n",
              "      <th>0</th>\n",
              "      <td>1.245025e+18</td>\n",
              "      <td>Happy #MothersDay to all you amazing mothers o...</td>\n",
              "      <td>en</td>\n",
              "      <td>0</td>\n",
              "      <td>BeenXXPired</td>\n",
              "      <td>0</td>\n",
              "    </tr>\n",
              "    <tr>\n",
              "      <th>1</th>\n",
              "      <td>1.245759e+18</td>\n",
              "      <td>Happy Mothers Day Mum - I'm sorry I can't be t...</td>\n",
              "      <td>en</td>\n",
              "      <td>1</td>\n",
              "      <td>FestiveFeeling</td>\n",
              "      <td>0</td>\n",
              "    </tr>\n",
              "    <tr>\n",
              "      <th>2</th>\n",
              "      <td>1.246087e+18</td>\n",
              "      <td>Happy mothers day To all This doing a mothers ...</td>\n",
              "      <td>en</td>\n",
              "      <td>0</td>\n",
              "      <td>KrisAllenSak</td>\n",
              "      <td>-1</td>\n",
              "    </tr>\n",
              "    <tr>\n",
              "      <th>3</th>\n",
              "      <td>1.244803e+18</td>\n",
              "      <td>Happy mothers day to this beautiful woman...ro...</td>\n",
              "      <td>en</td>\n",
              "      <td>0</td>\n",
              "      <td>Queenuchee</td>\n",
              "      <td>0</td>\n",
              "    </tr>\n",
              "    <tr>\n",
              "      <th>4</th>\n",
              "      <td>1.244876e+18</td>\n",
              "      <td>Remembering the 3 most amazing ladies who made...</td>\n",
              "      <td>en</td>\n",
              "      <td>0</td>\n",
              "      <td>brittan17446794</td>\n",
              "      <td>-1</td>\n",
              "    </tr>\n",
              "  </tbody>\n",
              "</table>\n",
              "</div>"
            ],
            "text/plain": [
              "             id                                      original_text lang  \\\n",
              "0  1.245025e+18  Happy #MothersDay to all you amazing mothers o...   en   \n",
              "1  1.245759e+18  Happy Mothers Day Mum - I'm sorry I can't be t...   en   \n",
              "2  1.246087e+18  Happy mothers day To all This doing a mothers ...   en   \n",
              "3  1.244803e+18  Happy mothers day to this beautiful woman...ro...   en   \n",
              "4  1.244876e+18  Remembering the 3 most amazing ladies who made...   en   \n",
              "\n",
              "  retweet_count  original_author  sentiment_class  \n",
              "0             0      BeenXXPired                0  \n",
              "1             1   FestiveFeeling                0  \n",
              "2             0     KrisAllenSak               -1  \n",
              "3             0       Queenuchee                0  \n",
              "4             0  brittan17446794               -1  "
            ]
          },
          "execution_count": 75,
          "metadata": {},
          "output_type": "execute_result"
        }
      ],
      "source": [
        "train.head()"
      ]
    },
    {
      "cell_type": "code",
      "execution_count": 76,
      "metadata": {},
      "outputs": [
        {
          "data": {
            "text/plain": [
              "1"
            ]
          },
          "execution_count": 76,
          "metadata": {},
          "output_type": "execute_result"
        }
      ],
      "source": [
        "train.columns.get_loc('original_text')"
      ]
    },
    {
      "cell_type": "code",
      "execution_count": 77,
      "metadata": {},
      "outputs": [
        {
          "data": {
            "text/plain": [
              "'Happy mothers day to this beautiful woman...royalty soothes you mummy jeremy and emerald and more #PrayForRoksie #UltimateLoveNG pic.twitter.com/oeetI22Pvv'"
            ]
          },
          "execution_count": 77,
          "metadata": {},
          "output_type": "execute_result"
        }
      ],
      "source": [
        "train.iloc[3]['original_text']"
      ]
    },
    {
      "cell_type": "code",
      "execution_count": 78,
      "metadata": {
        "colab": {
          "base_uri": "https://localhost:8080/",
          "height": 319
        },
        "colab_type": "code",
        "id": "Ozidtg3ft-qi",
        "outputId": "6c63896d-8ae5-4d8a-db1f-d94e94d87c51"
      },
      "outputs": [
        {
          "data": {
            "text/plain": [
              "(id                 0\n",
              " original_text      0\n",
              " lang               4\n",
              " retweet_count      4\n",
              " original_author    0\n",
              " sentiment_class    0\n",
              " dtype: int64,\n",
              " id                 0\n",
              " original_text      0\n",
              " lang               0\n",
              " retweet_count      1\n",
              " original_author    0\n",
              " dtype: int64,\n",
              " (3235, 6),\n",
              " (1387, 5),\n",
              " id                 float64\n",
              " original_text       object\n",
              " lang                object\n",
              " retweet_count       object\n",
              " original_author     object\n",
              " sentiment_class      int64\n",
              " dtype: object)"
            ]
          },
          "execution_count": 78,
          "metadata": {},
          "output_type": "execute_result"
        }
      ],
      "source": [
        "train.isnull().sum(),test.isnull().sum(),train.shape,test.shape,train.dtypes"
      ]
    },
    {
      "cell_type": "code",
      "execution_count": 79,
      "metadata": {
        "colab": {},
        "colab_type": "code",
        "id": "jtHiNkjzuDnA"
      },
      "outputs": [],
      "source": [
        "train['lang']=train['lang'].fillna(method='bfill')\n",
        "train['retweet_count']=train['retweet_count'].fillna(method='bfill')\n",
        "test['retweet_count']=test['retweet_count'].fillna(method='bfill')"
      ]
    },
    {
      "cell_type": "code",
      "execution_count": 80,
      "metadata": {},
      "outputs": [
        {
          "data": {
            "text/plain": [
              "(id                 0\n",
              " original_text      0\n",
              " lang               0\n",
              " retweet_count      0\n",
              " original_author    0\n",
              " sentiment_class    0\n",
              " dtype: int64,\n",
              " id                 0\n",
              " original_text      0\n",
              " lang               0\n",
              " retweet_count      0\n",
              " original_author    0\n",
              " dtype: int64)"
            ]
          },
          "execution_count": 80,
          "metadata": {},
          "output_type": "execute_result"
        }
      ],
      "source": [
        "train.isnull().sum(),test.isnull().sum()"
      ]
    },
    {
      "cell_type": "code",
      "execution_count": 81,
      "metadata": {},
      "outputs": [
        {
          "data": {
            "text/plain": [
              "(3235, 6)"
            ]
          },
          "execution_count": 81,
          "metadata": {},
          "output_type": "execute_result"
        }
      ],
      "source": [
        "train.shape"
      ]
    },
    {
      "cell_type": "code",
      "execution_count": 82,
      "metadata": {},
      "outputs": [
        {
          "data": {
            "text/plain": [
              "(1387, 5)"
            ]
          },
          "execution_count": 82,
          "metadata": {},
          "output_type": "execute_result"
        }
      ],
      "source": [
        "test.shape"
      ]
    },
    {
      "cell_type": "code",
      "execution_count": 83,
      "metadata": {
        "colab": {},
        "colab_type": "code",
        "id": "KorpVn_1tp5C"
      },
      "outputs": [
        {
          "name": "stderr",
          "output_type": "stream",
          "text": [
            "/var/folders/x2/99dh1r6j4p18bpywhkdd84j80000gq/T/ipykernel_62387/2932129495.py:1: FutureWarning: The frame.append method is deprecated and will be removed from pandas in a future version. Use pandas.concat instead.\n",
            "  df=train.append(test,ignore_index=True)\n"
          ]
        }
      ],
      "source": [
        "df=train.append(test,ignore_index=True)"
      ]
    },
    {
      "cell_type": "code",
      "execution_count": 84,
      "metadata": {},
      "outputs": [
        {
          "data": {
            "text/plain": [
              "(4622, 6)"
            ]
          },
          "execution_count": 84,
          "metadata": {},
          "output_type": "execute_result"
        }
      ],
      "source": [
        "df.shape"
      ]
    },
    {
      "cell_type": "code",
      "execution_count": 85,
      "metadata": {
        "colab": {},
        "colab_type": "code",
        "id": "V2fccgYutsdr"
      },
      "outputs": [],
      "source": [
        "import re\n",
        "def clean_text(text):\n",
        "    text = text.lower()\n",
        "    text = re.sub(r'@[a-zA-Z0-9_]+', '', text)   \n",
        "    text = re.sub(r'https?://[A-Za-z0-9./]+', '', text)   \n",
        "    text = re.sub(r'www.[^ ]+', '', text)  \n",
        "    text = re.sub(r'[a-zA-Z0-9]*www[a-zA-Z0-9]*com[a-zA-Z0-9]*', '', text)  \n",
        "    text = re.sub(r'[^a-zA-Z]', ' ', text)   \n",
        "    text = [token for token in text.split() if len(token) > 2]\n",
        "    text = ' '.join(text)\n",
        "    return text\n",
        "\n",
        "df['original_text'] = df['original_text'].apply(clean_text)"
      ]
    },
    {
      "cell_type": "code",
      "execution_count": 86,
      "metadata": {
        "colab": {
          "base_uri": "https://localhost:8080/",
          "height": 67
        },
        "colab_type": "code",
        "id": "5iTOpoIAtuCJ",
        "outputId": "7725812d-bb9d-4ebd-9880-600151fd6cbd"
      },
      "outputs": [
        {
          "name": "stderr",
          "output_type": "stream",
          "text": [
            "[nltk_data] Downloading package stopwords to\n",
            "[nltk_data]     /Users/aganji155/nltk_data...\n",
            "[nltk_data]   Package stopwords is already up-to-date!\n"
          ]
        },
        {
          "data": {
            "text/plain": [
              "True"
            ]
          },
          "execution_count": 86,
          "metadata": {},
          "output_type": "execute_result"
        }
      ],
      "source": [
        "import nltk\n",
        "nltk.download('stopwords')"
      ]
    },
    {
      "cell_type": "code",
      "execution_count": 87,
      "metadata": {},
      "outputs": [
        {
          "data": {
            "text/plain": [
              "['happy',\n",
              " 'mothers',\n",
              " 'day',\n",
              " 'this',\n",
              " 'beautiful',\n",
              " 'woman',\n",
              " 'royalty',\n",
              " 'soothes',\n",
              " 'you',\n",
              " 'mummy',\n",
              " 'jeremy',\n",
              " 'and',\n",
              " 'emerald',\n",
              " 'and',\n",
              " 'more',\n",
              " 'prayforroksie',\n",
              " 'ultimateloveng',\n",
              " 'pic',\n",
              " 'twitter',\n",
              " 'com',\n",
              " 'oeeti',\n",
              " 'pvv']"
            ]
          },
          "execution_count": 87,
          "metadata": {},
          "output_type": "execute_result"
        }
      ],
      "source": [
        "df.iloc[3]['original_text'].split()"
      ]
    },
    {
      "cell_type": "code",
      "execution_count": 88,
      "metadata": {
        "colab": {},
        "colab_type": "code",
        "id": "RjDa5toktyK2"
      },
      "outputs": [],
      "source": [
        "import string\n",
        "punctuation=string.punctuation\n",
        "df['word_count']=df['original_text'].apply(lambda x: len(str(x).split(\" \")))\n",
        "df['char_count'] = df['original_text'].str.len()\n",
        "def avg_word(sentence):\n",
        "    words = sentence.split()\n",
        "    return (sum(len(word) for word in words)/len(words))\n",
        "\n",
        "df['avg_word'] = df['original_text'].apply(lambda x: avg_word(x))\n",
        "from nltk.corpus import stopwords\n",
        "stop = stopwords.words('english')\n",
        "\n",
        "df['stopwords'] = df['original_text'].apply(lambda x: len([x for x in x.split() if x in stop]))\n",
        "df['numerics'] = df['original_text'].apply(lambda x: len([x for x in x.split() if x.isdigit()]))\n",
        "df['upper'] = df['original_text'].apply(lambda x: len([x for x in x.split() if x.isupper()]))\n",
        "df['word_density'] = df['char_count'] / (df['word_count']+1)\n",
        "df['punctuation_count'] = df['original_text'].apply(lambda x: len(\"\".join(_ for _ in x if _ in punctuation)))"
      ]
    },
    {
      "cell_type": "code",
      "execution_count": 89,
      "metadata": {
        "colab": {},
        "colab_type": "code",
        "id": "J3jHiW81ZbaT"
      },
      "outputs": [],
      "source": [
        "j=[]\n",
        "for i in df['original_text']:\n",
        "  j.append(len(i))\n",
        "df['len']=j"
      ]
    },
    {
      "cell_type": "code",
      "execution_count": 90,
      "metadata": {
        "colab": {},
        "colab_type": "code",
        "id": "x9AzpvUZyhuo"
      },
      "outputs": [],
      "source": [
        "from textblob import TextBlob\n",
        "df['polarity'] = df.apply(lambda x: TextBlob(x['original_text']).sentiment.polarity, axis=1)\n",
        "df['subjectivity'] = df.apply(lambda x: TextBlob(x['original_text']).sentiment.subjectivity, axis=1)"
      ]
    },
    {
      "cell_type": "code",
      "execution_count": 91,
      "metadata": {
        "colab": {
          "base_uri": "https://localhost:8080/",
          "height": 50
        },
        "colab_type": "code",
        "id": "IgViRHh4EYYA",
        "outputId": "676f66ff-31c6-4c50-c423-1c3effaa2393"
      },
      "outputs": [],
      "source": [
        "import nltk\n",
        "from nltk.tokenize import word_tokenize, RegexpTokenizer\n",
        "from nltk.sentiment.vader import SentimentIntensityAnalyzer"
      ]
    },
    {
      "cell_type": "code",
      "execution_count": 92,
      "metadata": {
        "colab": {
          "base_uri": "https://localhost:8080/",
          "height": 67
        },
        "colab_type": "code",
        "id": "YvF_xbsPFg5v",
        "outputId": "7dcd16d5-a6b3-4dd6-92fa-3db781a898f0"
      },
      "outputs": [
        {
          "name": "stderr",
          "output_type": "stream",
          "text": [
            "[nltk_data] Downloading package vader_lexicon to\n",
            "[nltk_data]     /Users/aganji155/nltk_data...\n",
            "[nltk_data]   Package vader_lexicon is already up-to-date!\n"
          ]
        },
        {
          "data": {
            "text/plain": [
              "True"
            ]
          },
          "execution_count": 92,
          "metadata": {},
          "output_type": "execute_result"
        }
      ],
      "source": [
        "import nltk\n",
        "nltk.download('vader_lexicon')"
      ]
    },
    {
      "cell_type": "code",
      "execution_count": 93,
      "metadata": {
        "colab": {
          "base_uri": "https://localhost:8080/",
          "height": 33
        },
        "colab_type": "code",
        "id": "8VClHWQbEYV0",
        "outputId": "26bfc4e6-0a9d-4b59-ea54-0ced5a6b9eb2"
      },
      "outputs": [
        {
          "data": {
            "text/plain": [
              "\"\\nvader=SentimentIntensityAnalyzer()\\nv1=[]\\nv2=[]\\nv3=[]\\nv4=[]\\nfor i in df['original_text']:\\n  j=vader.polarity_scores(i)\\n  j=list(j.values())\\n  v1.append(j[0])\\n  v2.append(j[1])\\n  v3.append(j[2])\\n  v4.append(j[3])\\ndf['v1']=v1\\ndf['v2']=v2\\ndf['v3']=v3\\ndf['v4']=v4\\n\""
            ]
          },
          "execution_count": 93,
          "metadata": {},
          "output_type": "execute_result"
        }
      ],
      "source": [
        "'''\n",
        "vader=SentimentIntensityAnalyzer()\n",
        "v1=[]\n",
        "v2=[]\n",
        "v3=[]\n",
        "v4=[]\n",
        "for i in df['original_text']:\n",
        "  j=vader.polarity_scores(i)\n",
        "  j=list(j.values())\n",
        "  v1.append(j[0])\n",
        "  v2.append(j[1])\n",
        "  v3.append(j[2])\n",
        "  v4.append(j[3])\n",
        "df['v1']=v1\n",
        "df['v2']=v2\n",
        "df['v3']=v3\n",
        "df['v4']=v4\n",
        "'''"
      ]
    },
    {
      "cell_type": "code",
      "execution_count": 94,
      "metadata": {
        "colab": {
          "base_uri": "https://localhost:8080/",
          "height": 104
        },
        "colab_type": "code",
        "id": "8EajvGnUHPoi",
        "outputId": "d127a547-759c-48aa-f896-680e9368de06"
      },
      "outputs": [
        {
          "data": {
            "text/html": [
              "<div>\n",
              "<style scoped>\n",
              "    .dataframe tbody tr th:only-of-type {\n",
              "        vertical-align: middle;\n",
              "    }\n",
              "\n",
              "    .dataframe tbody tr th {\n",
              "        vertical-align: top;\n",
              "    }\n",
              "\n",
              "    .dataframe thead th {\n",
              "        text-align: right;\n",
              "    }\n",
              "</style>\n",
              "<table border=\"1\" class=\"dataframe\">\n",
              "  <thead>\n",
              "    <tr style=\"text-align: right;\">\n",
              "      <th></th>\n",
              "      <th>id</th>\n",
              "      <th>original_text</th>\n",
              "      <th>lang</th>\n",
              "      <th>retweet_count</th>\n",
              "      <th>original_author</th>\n",
              "      <th>sentiment_class</th>\n",
              "      <th>word_count</th>\n",
              "      <th>char_count</th>\n",
              "      <th>avg_word</th>\n",
              "      <th>stopwords</th>\n",
              "      <th>numerics</th>\n",
              "      <th>upper</th>\n",
              "      <th>word_density</th>\n",
              "      <th>punctuation_count</th>\n",
              "      <th>len</th>\n",
              "      <th>polarity</th>\n",
              "      <th>subjectivity</th>\n",
              "    </tr>\n",
              "  </thead>\n",
              "  <tbody>\n",
              "    <tr>\n",
              "      <th>0</th>\n",
              "      <td>1.245025e+18</td>\n",
              "      <td>happy mothersday all you amazing mothers out t...</td>\n",
              "      <td>en</td>\n",
              "      <td>0</td>\n",
              "      <td>BeenXXPired</td>\n",
              "      <td>0.0</td>\n",
              "      <td>33</td>\n",
              "      <td>201</td>\n",
              "      <td>5.121212</td>\n",
              "      <td>14</td>\n",
              "      <td>0</td>\n",
              "      <td>0</td>\n",
              "      <td>5.911765</td>\n",
              "      <td>0</td>\n",
              "      <td>201</td>\n",
              "      <td>0.268056</td>\n",
              "      <td>0.677778</td>\n",
              "    </tr>\n",
              "    <tr>\n",
              "      <th>1</th>\n",
              "      <td>1.245759e+18</td>\n",
              "      <td>happy mothers day mum sorry can there bring yo...</td>\n",
              "      <td>en</td>\n",
              "      <td>1</td>\n",
              "      <td>FestiveFeeling</td>\n",
              "      <td>0.0</td>\n",
              "      <td>38</td>\n",
              "      <td>209</td>\n",
              "      <td>4.526316</td>\n",
              "      <td>10</td>\n",
              "      <td>0</td>\n",
              "      <td>0</td>\n",
              "      <td>5.358974</td>\n",
              "      <td>0</td>\n",
              "      <td>209</td>\n",
              "      <td>0.378571</td>\n",
              "      <td>0.782143</td>\n",
              "    </tr>\n",
              "  </tbody>\n",
              "</table>\n",
              "</div>"
            ],
            "text/plain": [
              "             id                                      original_text lang  \\\n",
              "0  1.245025e+18  happy mothersday all you amazing mothers out t...   en   \n",
              "1  1.245759e+18  happy mothers day mum sorry can there bring yo...   en   \n",
              "\n",
              "  retweet_count original_author  sentiment_class  word_count  char_count  \\\n",
              "0             0     BeenXXPired              0.0          33         201   \n",
              "1             1  FestiveFeeling              0.0          38         209   \n",
              "\n",
              "   avg_word  stopwords  numerics  upper  word_density  punctuation_count  len  \\\n",
              "0  5.121212         14         0      0      5.911765                  0  201   \n",
              "1  4.526316         10         0      0      5.358974                  0  209   \n",
              "\n",
              "   polarity  subjectivity  \n",
              "0  0.268056      0.677778  \n",
              "1  0.378571      0.782143  "
            ]
          },
          "execution_count": 94,
          "metadata": {},
          "output_type": "execute_result"
        }
      ],
      "source": [
        "df.head(2)"
      ]
    },
    {
      "cell_type": "code",
      "execution_count": 95,
      "metadata": {
        "colab": {},
        "colab_type": "code",
        "id": "c4VAplFlt0Zl"
      },
      "outputs": [],
      "source": [
        "train = df[df['sentiment_class'].isnull()==False]\n",
        "test = df[df['sentiment_class'].isnull()==True]"
      ]
    },
    {
      "cell_type": "code",
      "execution_count": 96,
      "metadata": {
        "colab": {
          "base_uri": "https://localhost:8080/",
          "height": 218
        },
        "colab_type": "code",
        "id": "qr7S00zNt2oX",
        "outputId": "484b87f7-fb38-43eb-f4e0-20919cb78e3a"
      },
      "outputs": [
        {
          "name": "stderr",
          "output_type": "stream",
          "text": [
            "/var/folders/x2/99dh1r6j4p18bpywhkdd84j80000gq/T/ipykernel_62387/3519045263.py:5: SettingWithCopyWarning: \n",
            "A value is trying to be set on a copy of a slice from a DataFrame.\n",
            "Try using .loc[row_indexer,col_indexer] = value instead\n",
            "\n",
            "See the caveats in the documentation: https://pandas.pydata.org/pandas-docs/stable/user_guide/indexing.html#returning-a-view-versus-a-copy\n",
            "  train['original_author']=l.transform(train['original_author'])\n",
            "/var/folders/x2/99dh1r6j4p18bpywhkdd84j80000gq/T/ipykernel_62387/3519045263.py:6: SettingWithCopyWarning: \n",
            "A value is trying to be set on a copy of a slice from a DataFrame.\n",
            "Try using .loc[row_indexer,col_indexer] = value instead\n",
            "\n",
            "See the caveats in the documentation: https://pandas.pydata.org/pandas-docs/stable/user_guide/indexing.html#returning-a-view-versus-a-copy\n",
            "  test['original_author']=l.transform(test['original_author'])\n"
          ]
        }
      ],
      "source": [
        "loc = np.append(train['original_author'].values, test['original_author'].values, axis=0)\n",
        "from sklearn.preprocessing import LabelEncoder\n",
        "l=LabelEncoder()\n",
        "l.fit(list(set(loc)))\n",
        "train['original_author']=l.transform(train['original_author'])\n",
        "test['original_author']=l.transform(test['original_author'])"
      ]
    },
    {
      "cell_type": "code",
      "execution_count": 97,
      "metadata": {},
      "outputs": [
        {
          "data": {
            "text/plain": [
              "2077"
            ]
          },
          "execution_count": 97,
          "metadata": {},
          "output_type": "execute_result"
        }
      ],
      "source": [
        "len(list(set(loc)))"
      ]
    },
    {
      "cell_type": "code",
      "execution_count": 98,
      "metadata": {
        "colab": {
          "base_uri": "https://localhost:8080/",
          "height": 218
        },
        "colab_type": "code",
        "id": "h6qvoA3Ht4qo",
        "outputId": "01fabbca-d802-441b-f978-edcb7bc88b03"
      },
      "outputs": [
        {
          "name": "stderr",
          "output_type": "stream",
          "text": [
            "/var/folders/x2/99dh1r6j4p18bpywhkdd84j80000gq/T/ipykernel_62387/1014421036.py:5: SettingWithCopyWarning: \n",
            "A value is trying to be set on a copy of a slice from a DataFrame.\n",
            "Try using .loc[row_indexer,col_indexer] = value instead\n",
            "\n",
            "See the caveats in the documentation: https://pandas.pydata.org/pandas-docs/stable/user_guide/indexing.html#returning-a-view-versus-a-copy\n",
            "  train['lang']=l.transform(train['lang'])\n",
            "/var/folders/x2/99dh1r6j4p18bpywhkdd84j80000gq/T/ipykernel_62387/1014421036.py:6: SettingWithCopyWarning: \n",
            "A value is trying to be set on a copy of a slice from a DataFrame.\n",
            "Try using .loc[row_indexer,col_indexer] = value instead\n",
            "\n",
            "See the caveats in the documentation: https://pandas.pydata.org/pandas-docs/stable/user_guide/indexing.html#returning-a-view-versus-a-copy\n",
            "  test['lang']=l.transform(test['lang'])\n"
          ]
        }
      ],
      "source": [
        "loc = np.append(train['lang'].values, test['lang'].values, axis=0)\n",
        "from sklearn.preprocessing import LabelEncoder\n",
        "l=LabelEncoder()\n",
        "l.fit(list(set(loc)))\n",
        "train['lang']=l.transform(train['lang'])\n",
        "test['lang']=l.transform(test['lang'])"
      ]
    },
    {
      "cell_type": "code",
      "execution_count": 99,
      "metadata": {
        "colab": {
          "base_uri": "https://localhost:8080/",
          "height": 218
        },
        "colab_type": "code",
        "id": "2TDirZr0vlS3",
        "outputId": "57dfa278-f7c3-411f-ff89-d3b44cbd571d"
      },
      "outputs": [
        {
          "name": "stderr",
          "output_type": "stream",
          "text": [
            "/var/folders/x2/99dh1r6j4p18bpywhkdd84j80000gq/T/ipykernel_62387/1286953810.py:5: SettingWithCopyWarning: \n",
            "A value is trying to be set on a copy of a slice from a DataFrame.\n",
            "Try using .loc[row_indexer,col_indexer] = value instead\n",
            "\n",
            "See the caveats in the documentation: https://pandas.pydata.org/pandas-docs/stable/user_guide/indexing.html#returning-a-view-versus-a-copy\n",
            "  train['retweet_count']=l.transform(train['retweet_count'])\n",
            "/var/folders/x2/99dh1r6j4p18bpywhkdd84j80000gq/T/ipykernel_62387/1286953810.py:6: SettingWithCopyWarning: \n",
            "A value is trying to be set on a copy of a slice from a DataFrame.\n",
            "Try using .loc[row_indexer,col_indexer] = value instead\n",
            "\n",
            "See the caveats in the documentation: https://pandas.pydata.org/pandas-docs/stable/user_guide/indexing.html#returning-a-view-versus-a-copy\n",
            "  test['retweet_count']=l.transform(test['retweet_count'])\n"
          ]
        }
      ],
      "source": [
        "loc = np.append(train['retweet_count'].values, test['retweet_count'].values, axis=0)\n",
        "from sklearn.preprocessing import LabelEncoder\n",
        "l=LabelEncoder()\n",
        "l.fit(list(set(loc)))\n",
        "train['retweet_count']=l.transform(train['retweet_count'])\n",
        "test['retweet_count']=l.transform(test['retweet_count'])"
      ]
    },
    {
      "cell_type": "code",
      "execution_count": 100,
      "metadata": {},
      "outputs": [
        {
          "data": {
            "text/html": [
              "<div>\n",
              "<style scoped>\n",
              "    .dataframe tbody tr th:only-of-type {\n",
              "        vertical-align: middle;\n",
              "    }\n",
              "\n",
              "    .dataframe tbody tr th {\n",
              "        vertical-align: top;\n",
              "    }\n",
              "\n",
              "    .dataframe thead th {\n",
              "        text-align: right;\n",
              "    }\n",
              "</style>\n",
              "<table border=\"1\" class=\"dataframe\">\n",
              "  <thead>\n",
              "    <tr style=\"text-align: right;\">\n",
              "      <th></th>\n",
              "      <th>id</th>\n",
              "      <th>original_text</th>\n",
              "      <th>lang</th>\n",
              "      <th>retweet_count</th>\n",
              "      <th>original_author</th>\n",
              "      <th>sentiment_class</th>\n",
              "      <th>word_count</th>\n",
              "      <th>char_count</th>\n",
              "      <th>avg_word</th>\n",
              "      <th>stopwords</th>\n",
              "      <th>numerics</th>\n",
              "      <th>upper</th>\n",
              "      <th>word_density</th>\n",
              "      <th>punctuation_count</th>\n",
              "      <th>len</th>\n",
              "      <th>polarity</th>\n",
              "      <th>subjectivity</th>\n",
              "    </tr>\n",
              "  </thead>\n",
              "  <tbody>\n",
              "    <tr>\n",
              "      <th>0</th>\n",
              "      <td>1.245025e+18</td>\n",
              "      <td>happy mothersday all you amazing mothers out t...</td>\n",
              "      <td>307</td>\n",
              "      <td>25</td>\n",
              "      <td>190</td>\n",
              "      <td>0.0</td>\n",
              "      <td>33</td>\n",
              "      <td>201</td>\n",
              "      <td>5.121212</td>\n",
              "      <td>14</td>\n",
              "      <td>0</td>\n",
              "      <td>0</td>\n",
              "      <td>5.911765</td>\n",
              "      <td>0</td>\n",
              "      <td>201</td>\n",
              "      <td>0.268056</td>\n",
              "      <td>0.677778</td>\n",
              "    </tr>\n",
              "    <tr>\n",
              "      <th>1</th>\n",
              "      <td>1.245759e+18</td>\n",
              "      <td>happy mothers day mum sorry can there bring yo...</td>\n",
              "      <td>307</td>\n",
              "      <td>48</td>\n",
              "      <td>423</td>\n",
              "      <td>0.0</td>\n",
              "      <td>38</td>\n",
              "      <td>209</td>\n",
              "      <td>4.526316</td>\n",
              "      <td>10</td>\n",
              "      <td>0</td>\n",
              "      <td>0</td>\n",
              "      <td>5.358974</td>\n",
              "      <td>0</td>\n",
              "      <td>209</td>\n",
              "      <td>0.378571</td>\n",
              "      <td>0.782143</td>\n",
              "    </tr>\n",
              "    <tr>\n",
              "      <th>2</th>\n",
              "      <td>1.246087e+18</td>\n",
              "      <td>happy mothers day all this doing mothers days ...</td>\n",
              "      <td>307</td>\n",
              "      <td>25</td>\n",
              "      <td>618</td>\n",
              "      <td>-1.0</td>\n",
              "      <td>46</td>\n",
              "      <td>262</td>\n",
              "      <td>4.717391</td>\n",
              "      <td>12</td>\n",
              "      <td>0</td>\n",
              "      <td>0</td>\n",
              "      <td>5.574468</td>\n",
              "      <td>0</td>\n",
              "      <td>262</td>\n",
              "      <td>0.120000</td>\n",
              "      <td>0.586667</td>\n",
              "    </tr>\n",
              "    <tr>\n",
              "      <th>3</th>\n",
              "      <td>1.244803e+18</td>\n",
              "      <td>happy mothers day this beautiful woman royalty...</td>\n",
              "      <td>307</td>\n",
              "      <td>25</td>\n",
              "      <td>928</td>\n",
              "      <td>0.0</td>\n",
              "      <td>22</td>\n",
              "      <td>147</td>\n",
              "      <td>5.727273</td>\n",
              "      <td>5</td>\n",
              "      <td>0</td>\n",
              "      <td>0</td>\n",
              "      <td>6.391304</td>\n",
              "      <td>0</td>\n",
              "      <td>147</td>\n",
              "      <td>0.716667</td>\n",
              "      <td>0.833333</td>\n",
              "    </tr>\n",
              "    <tr>\n",
              "      <th>4</th>\n",
              "      <td>1.244876e+18</td>\n",
              "      <td>remembering the most amazing ladies who made w...</td>\n",
              "      <td>307</td>\n",
              "      <td>25</td>\n",
              "      <td>1320</td>\n",
              "      <td>-1.0</td>\n",
              "      <td>38</td>\n",
              "      <td>230</td>\n",
              "      <td>5.078947</td>\n",
              "      <td>11</td>\n",
              "      <td>0</td>\n",
              "      <td>0</td>\n",
              "      <td>5.897436</td>\n",
              "      <td>0</td>\n",
              "      <td>230</td>\n",
              "      <td>0.528571</td>\n",
              "      <td>0.728571</td>\n",
              "    </tr>\n",
              "    <tr>\n",
              "      <th>...</th>\n",
              "      <td>...</td>\n",
              "      <td>...</td>\n",
              "      <td>...</td>\n",
              "      <td>...</td>\n",
              "      <td>...</td>\n",
              "      <td>...</td>\n",
              "      <td>...</td>\n",
              "      <td>...</td>\n",
              "      <td>...</td>\n",
              "      <td>...</td>\n",
              "      <td>...</td>\n",
              "      <td>...</td>\n",
              "      <td>...</td>\n",
              "      <td>...</td>\n",
              "      <td>...</td>\n",
              "      <td>...</td>\n",
              "      <td>...</td>\n",
              "    </tr>\n",
              "    <tr>\n",
              "      <th>3230</th>\n",
              "      <td>1.245745e+18</td>\n",
              "      <td>all sisters sisters law and also friends this ...</td>\n",
              "      <td>307</td>\n",
              "      <td>25</td>\n",
              "      <td>1096</td>\n",
              "      <td>0.0</td>\n",
              "      <td>26</td>\n",
              "      <td>143</td>\n",
              "      <td>4.538462</td>\n",
              "      <td>9</td>\n",
              "      <td>0</td>\n",
              "      <td>0</td>\n",
              "      <td>5.296296</td>\n",
              "      <td>0</td>\n",
              "      <td>143</td>\n",
              "      <td>0.600000</td>\n",
              "      <td>0.750000</td>\n",
              "    </tr>\n",
              "    <tr>\n",
              "      <th>3231</th>\n",
              "      <td>1.244368e+18</td>\n",
              "      <td>happy mother day all the mums step mums auntie...</td>\n",
              "      <td>307</td>\n",
              "      <td>25</td>\n",
              "      <td>702</td>\n",
              "      <td>1.0</td>\n",
              "      <td>27</td>\n",
              "      <td>212</td>\n",
              "      <td>6.888889</td>\n",
              "      <td>5</td>\n",
              "      <td>0</td>\n",
              "      <td>0</td>\n",
              "      <td>7.571429</td>\n",
              "      <td>0</td>\n",
              "      <td>212</td>\n",
              "      <td>0.700000</td>\n",
              "      <td>0.950000</td>\n",
              "    </tr>\n",
              "    <tr>\n",
              "      <th>3232</th>\n",
              "      <td>1.245675e+18</td>\n",
              "      <td>happy mothers day the craziest woman know than...</td>\n",
              "      <td>307</td>\n",
              "      <td>25</td>\n",
              "      <td>1663</td>\n",
              "      <td>0.0</td>\n",
              "      <td>22</td>\n",
              "      <td>148</td>\n",
              "      <td>5.772727</td>\n",
              "      <td>4</td>\n",
              "      <td>0</td>\n",
              "      <td>0</td>\n",
              "      <td>6.434783</td>\n",
              "      <td>0</td>\n",
              "      <td>148</td>\n",
              "      <td>0.666667</td>\n",
              "      <td>0.500000</td>\n",
              "    </tr>\n",
              "    <tr>\n",
              "      <th>3233</th>\n",
              "      <td>1.243976e+18</td>\n",
              "      <td>happy mother day amazing wife both love you li...</td>\n",
              "      <td>307</td>\n",
              "      <td>25</td>\n",
              "      <td>685</td>\n",
              "      <td>0.0</td>\n",
              "      <td>25</td>\n",
              "      <td>165</td>\n",
              "      <td>5.640000</td>\n",
              "      <td>3</td>\n",
              "      <td>0</td>\n",
              "      <td>0</td>\n",
              "      <td>6.346154</td>\n",
              "      <td>0</td>\n",
              "      <td>165</td>\n",
              "      <td>0.160000</td>\n",
              "      <td>0.880000</td>\n",
              "    </tr>\n",
              "    <tr>\n",
              "      <th>3234</th>\n",
              "      <td>1.245409e+18</td>\n",
              "      <td>wishing you all safe happy mothers day mothers...</td>\n",
              "      <td>307</td>\n",
              "      <td>25</td>\n",
              "      <td>1246</td>\n",
              "      <td>-1.0</td>\n",
              "      <td>18</td>\n",
              "      <td>111</td>\n",
              "      <td>5.222222</td>\n",
              "      <td>2</td>\n",
              "      <td>0</td>\n",
              "      <td>0</td>\n",
              "      <td>5.842105</td>\n",
              "      <td>0</td>\n",
              "      <td>111</td>\n",
              "      <td>0.650000</td>\n",
              "      <td>0.750000</td>\n",
              "    </tr>\n",
              "  </tbody>\n",
              "</table>\n",
              "<p>3235 rows × 17 columns</p>\n",
              "</div>"
            ],
            "text/plain": [
              "                id                                      original_text  lang  \\\n",
              "0     1.245025e+18  happy mothersday all you amazing mothers out t...   307   \n",
              "1     1.245759e+18  happy mothers day mum sorry can there bring yo...   307   \n",
              "2     1.246087e+18  happy mothers day all this doing mothers days ...   307   \n",
              "3     1.244803e+18  happy mothers day this beautiful woman royalty...   307   \n",
              "4     1.244876e+18  remembering the most amazing ladies who made w...   307   \n",
              "...            ...                                                ...   ...   \n",
              "3230  1.245745e+18  all sisters sisters law and also friends this ...   307   \n",
              "3231  1.244368e+18  happy mother day all the mums step mums auntie...   307   \n",
              "3232  1.245675e+18  happy mothers day the craziest woman know than...   307   \n",
              "3233  1.243976e+18  happy mother day amazing wife both love you li...   307   \n",
              "3234  1.245409e+18  wishing you all safe happy mothers day mothers...   307   \n",
              "\n",
              "      retweet_count  original_author  sentiment_class  word_count  char_count  \\\n",
              "0                25              190              0.0          33         201   \n",
              "1                48              423              0.0          38         209   \n",
              "2                25              618             -1.0          46         262   \n",
              "3                25              928              0.0          22         147   \n",
              "4                25             1320             -1.0          38         230   \n",
              "...             ...              ...              ...         ...         ...   \n",
              "3230             25             1096              0.0          26         143   \n",
              "3231             25              702              1.0          27         212   \n",
              "3232             25             1663              0.0          22         148   \n",
              "3233             25              685              0.0          25         165   \n",
              "3234             25             1246             -1.0          18         111   \n",
              "\n",
              "      avg_word  stopwords  numerics  upper  word_density  punctuation_count  \\\n",
              "0     5.121212         14         0      0      5.911765                  0   \n",
              "1     4.526316         10         0      0      5.358974                  0   \n",
              "2     4.717391         12         0      0      5.574468                  0   \n",
              "3     5.727273          5         0      0      6.391304                  0   \n",
              "4     5.078947         11         0      0      5.897436                  0   \n",
              "...        ...        ...       ...    ...           ...                ...   \n",
              "3230  4.538462          9         0      0      5.296296                  0   \n",
              "3231  6.888889          5         0      0      7.571429                  0   \n",
              "3232  5.772727          4         0      0      6.434783                  0   \n",
              "3233  5.640000          3         0      0      6.346154                  0   \n",
              "3234  5.222222          2         0      0      5.842105                  0   \n",
              "\n",
              "      len  polarity  subjectivity  \n",
              "0     201  0.268056      0.677778  \n",
              "1     209  0.378571      0.782143  \n",
              "2     262  0.120000      0.586667  \n",
              "3     147  0.716667      0.833333  \n",
              "4     230  0.528571      0.728571  \n",
              "...   ...       ...           ...  \n",
              "3230  143  0.600000      0.750000  \n",
              "3231  212  0.700000      0.950000  \n",
              "3232  148  0.666667      0.500000  \n",
              "3233  165  0.160000      0.880000  \n",
              "3234  111  0.650000      0.750000  \n",
              "\n",
              "[3235 rows x 17 columns]"
            ]
          },
          "execution_count": 100,
          "metadata": {},
          "output_type": "execute_result"
        }
      ],
      "source": [
        "train"
      ]
    },
    {
      "cell_type": "code",
      "execution_count": 101,
      "metadata": {
        "colab": {
          "base_uri": "https://localhost:8080/",
          "height": 104
        },
        "colab_type": "code",
        "id": "WeoJ28nOt60H",
        "outputId": "1387cdd6-fe56-4385-a7c8-8fed279e2742"
      },
      "outputs": [
        {
          "data": {
            "text/html": [
              "<div>\n",
              "<style scoped>\n",
              "    .dataframe tbody tr th:only-of-type {\n",
              "        vertical-align: middle;\n",
              "    }\n",
              "\n",
              "    .dataframe tbody tr th {\n",
              "        vertical-align: top;\n",
              "    }\n",
              "\n",
              "    .dataframe thead th {\n",
              "        text-align: right;\n",
              "    }\n",
              "</style>\n",
              "<table border=\"1\" class=\"dataframe\">\n",
              "  <thead>\n",
              "    <tr style=\"text-align: right;\">\n",
              "      <th></th>\n",
              "      <th>id</th>\n",
              "      <th>original_text</th>\n",
              "      <th>lang</th>\n",
              "      <th>retweet_count</th>\n",
              "      <th>original_author</th>\n",
              "      <th>sentiment_class</th>\n",
              "      <th>word_count</th>\n",
              "      <th>char_count</th>\n",
              "      <th>avg_word</th>\n",
              "      <th>stopwords</th>\n",
              "      <th>numerics</th>\n",
              "      <th>upper</th>\n",
              "      <th>word_density</th>\n",
              "      <th>punctuation_count</th>\n",
              "      <th>len</th>\n",
              "      <th>polarity</th>\n",
              "      <th>subjectivity</th>\n",
              "    </tr>\n",
              "  </thead>\n",
              "  <tbody>\n",
              "    <tr>\n",
              "      <th>0</th>\n",
              "      <td>1.245025e+18</td>\n",
              "      <td>happy mothersday all you amazing mothers out t...</td>\n",
              "      <td>307</td>\n",
              "      <td>25</td>\n",
              "      <td>190</td>\n",
              "      <td>0.0</td>\n",
              "      <td>33</td>\n",
              "      <td>201</td>\n",
              "      <td>5.121212</td>\n",
              "      <td>14</td>\n",
              "      <td>0</td>\n",
              "      <td>0</td>\n",
              "      <td>5.911765</td>\n",
              "      <td>0</td>\n",
              "      <td>201</td>\n",
              "      <td>0.268056</td>\n",
              "      <td>0.677778</td>\n",
              "    </tr>\n",
              "    <tr>\n",
              "      <th>1</th>\n",
              "      <td>1.245759e+18</td>\n",
              "      <td>happy mothers day mum sorry can there bring yo...</td>\n",
              "      <td>307</td>\n",
              "      <td>48</td>\n",
              "      <td>423</td>\n",
              "      <td>0.0</td>\n",
              "      <td>38</td>\n",
              "      <td>209</td>\n",
              "      <td>4.526316</td>\n",
              "      <td>10</td>\n",
              "      <td>0</td>\n",
              "      <td>0</td>\n",
              "      <td>5.358974</td>\n",
              "      <td>0</td>\n",
              "      <td>209</td>\n",
              "      <td>0.378571</td>\n",
              "      <td>0.782143</td>\n",
              "    </tr>\n",
              "  </tbody>\n",
              "</table>\n",
              "</div>"
            ],
            "text/plain": [
              "             id                                      original_text  lang  \\\n",
              "0  1.245025e+18  happy mothersday all you amazing mothers out t...   307   \n",
              "1  1.245759e+18  happy mothers day mum sorry can there bring yo...   307   \n",
              "\n",
              "   retweet_count  original_author  sentiment_class  word_count  char_count  \\\n",
              "0             25              190              0.0          33         201   \n",
              "1             48              423              0.0          38         209   \n",
              "\n",
              "   avg_word  stopwords  numerics  upper  word_density  punctuation_count  len  \\\n",
              "0  5.121212         14         0      0      5.911765                  0  201   \n",
              "1  4.526316         10         0      0      5.358974                  0  209   \n",
              "\n",
              "   polarity  subjectivity  \n",
              "0  0.268056      0.677778  \n",
              "1  0.378571      0.782143  "
            ]
          },
          "execution_count": 101,
          "metadata": {},
          "output_type": "execute_result"
        }
      ],
      "source": [
        "train.head(2)"
      ]
    },
    {
      "cell_type": "code",
      "execution_count": 102,
      "metadata": {
        "colab": {
          "base_uri": "https://localhost:8080/",
          "height": 104
        },
        "colab_type": "code",
        "id": "mYXNDMXqupvC",
        "outputId": "295ca12b-0f8a-42a3-8a19-0b82183fe7e6"
      },
      "outputs": [
        {
          "data": {
            "text/html": [
              "<div>\n",
              "<style scoped>\n",
              "    .dataframe tbody tr th:only-of-type {\n",
              "        vertical-align: middle;\n",
              "    }\n",
              "\n",
              "    .dataframe tbody tr th {\n",
              "        vertical-align: top;\n",
              "    }\n",
              "\n",
              "    .dataframe thead th {\n",
              "        text-align: right;\n",
              "    }\n",
              "</style>\n",
              "<table border=\"1\" class=\"dataframe\">\n",
              "  <thead>\n",
              "    <tr style=\"text-align: right;\">\n",
              "      <th></th>\n",
              "      <th>id</th>\n",
              "      <th>original_text</th>\n",
              "      <th>lang</th>\n",
              "      <th>retweet_count</th>\n",
              "      <th>original_author</th>\n",
              "      <th>sentiment_class</th>\n",
              "      <th>word_count</th>\n",
              "      <th>char_count</th>\n",
              "      <th>avg_word</th>\n",
              "      <th>stopwords</th>\n",
              "      <th>numerics</th>\n",
              "      <th>upper</th>\n",
              "      <th>word_density</th>\n",
              "      <th>punctuation_count</th>\n",
              "      <th>len</th>\n",
              "      <th>polarity</th>\n",
              "      <th>subjectivity</th>\n",
              "    </tr>\n",
              "  </thead>\n",
              "  <tbody>\n",
              "    <tr>\n",
              "      <th>3235</th>\n",
              "      <td>1.246628e+18</td>\n",
              "      <td>yeah once cooked potatoes when was years old a...</td>\n",
              "      <td>307</td>\n",
              "      <td>25</td>\n",
              "      <td>631</td>\n",
              "      <td>NaN</td>\n",
              "      <td>37</td>\n",
              "      <td>223</td>\n",
              "      <td>5.054054</td>\n",
              "      <td>11</td>\n",
              "      <td>0</td>\n",
              "      <td>0</td>\n",
              "      <td>5.868421</td>\n",
              "      <td>0</td>\n",
              "      <td>223</td>\n",
              "      <td>0.150694</td>\n",
              "      <td>0.489583</td>\n",
              "    </tr>\n",
              "    <tr>\n",
              "      <th>3236</th>\n",
              "      <td>1.245898e+18</td>\n",
              "      <td>happy mother day all the mums step mums grandm...</td>\n",
              "      <td>307</td>\n",
              "      <td>25</td>\n",
              "      <td>1548</td>\n",
              "      <td>NaN</td>\n",
              "      <td>23</td>\n",
              "      <td>156</td>\n",
              "      <td>5.826087</td>\n",
              "      <td>5</td>\n",
              "      <td>0</td>\n",
              "      <td>0</td>\n",
              "      <td>6.500000</td>\n",
              "      <td>0</td>\n",
              "      <td>156</td>\n",
              "      <td>0.800000</td>\n",
              "      <td>1.000000</td>\n",
              "    </tr>\n",
              "  </tbody>\n",
              "</table>\n",
              "</div>"
            ],
            "text/plain": [
              "                id                                      original_text  lang  \\\n",
              "3235  1.246628e+18  yeah once cooked potatoes when was years old a...   307   \n",
              "3236  1.245898e+18  happy mother day all the mums step mums grandm...   307   \n",
              "\n",
              "      retweet_count  original_author  sentiment_class  word_count  char_count  \\\n",
              "3235             25              631              NaN          37         223   \n",
              "3236             25             1548              NaN          23         156   \n",
              "\n",
              "      avg_word  stopwords  numerics  upper  word_density  punctuation_count  \\\n",
              "3235  5.054054         11         0      0      5.868421                  0   \n",
              "3236  5.826087          5         0      0      6.500000                  0   \n",
              "\n",
              "      len  polarity  subjectivity  \n",
              "3235  223  0.150694      0.489583  \n",
              "3236  156  0.800000      1.000000  "
            ]
          },
          "execution_count": 102,
          "metadata": {},
          "output_type": "execute_result"
        }
      ],
      "source": [
        "test.head(2)"
      ]
    },
    {
      "cell_type": "code",
      "execution_count": 103,
      "metadata": {
        "colab": {},
        "colab_type": "code",
        "id": "_T8q_WTtutap"
      },
      "outputs": [],
      "source": [
        "del test['sentiment_class']"
      ]
    },
    {
      "cell_type": "code",
      "execution_count": 104,
      "metadata": {},
      "outputs": [
        {
          "data": {
            "text/html": [
              "<div>\n",
              "<style scoped>\n",
              "    .dataframe tbody tr th:only-of-type {\n",
              "        vertical-align: middle;\n",
              "    }\n",
              "\n",
              "    .dataframe tbody tr th {\n",
              "        vertical-align: top;\n",
              "    }\n",
              "\n",
              "    .dataframe thead th {\n",
              "        text-align: right;\n",
              "    }\n",
              "</style>\n",
              "<table border=\"1\" class=\"dataframe\">\n",
              "  <thead>\n",
              "    <tr style=\"text-align: right;\">\n",
              "      <th></th>\n",
              "      <th>id</th>\n",
              "      <th>original_text</th>\n",
              "      <th>lang</th>\n",
              "      <th>retweet_count</th>\n",
              "      <th>original_author</th>\n",
              "      <th>word_count</th>\n",
              "      <th>char_count</th>\n",
              "      <th>avg_word</th>\n",
              "      <th>stopwords</th>\n",
              "      <th>numerics</th>\n",
              "      <th>upper</th>\n",
              "      <th>word_density</th>\n",
              "      <th>punctuation_count</th>\n",
              "      <th>len</th>\n",
              "      <th>polarity</th>\n",
              "      <th>subjectivity</th>\n",
              "    </tr>\n",
              "  </thead>\n",
              "  <tbody>\n",
              "    <tr>\n",
              "      <th>3235</th>\n",
              "      <td>1.246628e+18</td>\n",
              "      <td>yeah once cooked potatoes when was years old a...</td>\n",
              "      <td>307</td>\n",
              "      <td>25</td>\n",
              "      <td>631</td>\n",
              "      <td>37</td>\n",
              "      <td>223</td>\n",
              "      <td>5.054054</td>\n",
              "      <td>11</td>\n",
              "      <td>0</td>\n",
              "      <td>0</td>\n",
              "      <td>5.868421</td>\n",
              "      <td>0</td>\n",
              "      <td>223</td>\n",
              "      <td>0.150694</td>\n",
              "      <td>0.489583</td>\n",
              "    </tr>\n",
              "    <tr>\n",
              "      <th>3236</th>\n",
              "      <td>1.245898e+18</td>\n",
              "      <td>happy mother day all the mums step mums grandm...</td>\n",
              "      <td>307</td>\n",
              "      <td>25</td>\n",
              "      <td>1548</td>\n",
              "      <td>23</td>\n",
              "      <td>156</td>\n",
              "      <td>5.826087</td>\n",
              "      <td>5</td>\n",
              "      <td>0</td>\n",
              "      <td>0</td>\n",
              "      <td>6.500000</td>\n",
              "      <td>0</td>\n",
              "      <td>156</td>\n",
              "      <td>0.800000</td>\n",
              "      <td>1.000000</td>\n",
              "    </tr>\n",
              "  </tbody>\n",
              "</table>\n",
              "</div>"
            ],
            "text/plain": [
              "                id                                      original_text  lang  \\\n",
              "3235  1.246628e+18  yeah once cooked potatoes when was years old a...   307   \n",
              "3236  1.245898e+18  happy mother day all the mums step mums grandm...   307   \n",
              "\n",
              "      retweet_count  original_author  word_count  char_count  avg_word  \\\n",
              "3235             25              631          37         223  5.054054   \n",
              "3236             25             1548          23         156  5.826087   \n",
              "\n",
              "      stopwords  numerics  upper  word_density  punctuation_count  len  \\\n",
              "3235         11         0      0      5.868421                  0  223   \n",
              "3236          5         0      0      6.500000                  0  156   \n",
              "\n",
              "      polarity  subjectivity  \n",
              "3235  0.150694      0.489583  \n",
              "3236  0.800000      1.000000  "
            ]
          },
          "execution_count": 104,
          "metadata": {},
          "output_type": "execute_result"
        }
      ],
      "source": [
        "test.head(2)"
      ]
    },
    {
      "cell_type": "code",
      "execution_count": 105,
      "metadata": {
        "colab": {},
        "colab_type": "code",
        "id": "dIrL3z6FvAdm"
      },
      "outputs": [],
      "source": [
        "del train['original_text']\n",
        "del test['original_text']"
      ]
    },
    {
      "cell_type": "code",
      "execution_count": 106,
      "metadata": {
        "colab": {
          "base_uri": "https://localhost:8080/",
          "height": 84
        },
        "colab_type": "code",
        "id": "OIzGAuqLvazu",
        "outputId": "f6be379d-9535-402e-9fef-258b7a6b9a91"
      },
      "outputs": [
        {
          "data": {
            "text/plain": [
              " 0.0    1701\n",
              "-1.0     769\n",
              " 1.0     765\n",
              "Name: sentiment_class, dtype: int64"
            ]
          },
          "execution_count": 106,
          "metadata": {},
          "output_type": "execute_result"
        }
      ],
      "source": [
        "train['sentiment_class'].value_counts()"
      ]
    },
    {
      "cell_type": "code",
      "execution_count": 107,
      "metadata": {
        "colab": {},
        "colab_type": "code",
        "id": "WGtoe9kqwQEb"
      },
      "outputs": [],
      "source": [
        "m=[]\n",
        "for i in train['sentiment_class']:\n",
        "    if i==0:\n",
        "        m.append('A')\n",
        "    elif i==1:\n",
        "        m.append('B')\n",
        "    else:\n",
        "        m.append('C')\n"
      ]
    },
    {
      "cell_type": "code",
      "execution_count": 108,
      "metadata": {
        "colab": {
          "base_uri": "https://localhost:8080/",
          "height": 117
        },
        "colab_type": "code",
        "id": "kua-YSJcxcyR",
        "outputId": "e326dd01-6a40-4b6a-c96d-a555f11e3f9a"
      },
      "outputs": [
        {
          "name": "stderr",
          "output_type": "stream",
          "text": [
            "/var/folders/x2/99dh1r6j4p18bpywhkdd84j80000gq/T/ipykernel_62387/463032109.py:2: SettingWithCopyWarning: \n",
            "A value is trying to be set on a copy of a slice from a DataFrame.\n",
            "Try using .loc[row_indexer,col_indexer] = value instead\n",
            "\n",
            "See the caveats in the documentation: https://pandas.pydata.org/pandas-docs/stable/user_guide/indexing.html#returning-a-view-versus-a-copy\n",
            "  train['sentiment_class']=m\n"
          ]
        }
      ],
      "source": [
        "del train['sentiment_class']\n",
        "train['sentiment_class']=m"
      ]
    },
    {
      "cell_type": "code",
      "execution_count": 109,
      "metadata": {
        "colab": {
          "base_uri": "https://localhost:8080/",
          "height": 84
        },
        "colab_type": "code",
        "id": "yPPRTckjwkHw",
        "outputId": "c5a88d33-2245-46ee-8054-a22d9fb0c906"
      },
      "outputs": [
        {
          "data": {
            "text/plain": [
              "A    1701\n",
              "C     769\n",
              "B     765\n",
              "Name: sentiment_class, dtype: int64"
            ]
          },
          "execution_count": 109,
          "metadata": {},
          "output_type": "execute_result"
        }
      ],
      "source": [
        "train['sentiment_class'].value_counts()"
      ]
    },
    {
      "cell_type": "markdown",
      "metadata": {
        "colab_type": "text",
        "id": "wu2Dmzwev-fh"
      },
      "source": [
        "#def rule"
      ]
    },
    {
      "cell_type": "code",
      "execution_count": 111,
      "metadata": {
        "colab": {},
        "colab_type": "code",
        "id": "-xBSeWorwA1C"
      },
      "outputs": [],
      "source": [
        "import warnings\n",
        "warnings.simplefilter(action='ignore', category=FutureWarning)"
      ]
    },
    {
      "cell_type": "code",
      "execution_count": 114,
      "metadata": {
        "colab": {},
        "colab_type": "code",
        "id": "s75MRL2NwBab"
      },
      "outputs": [],
      "source": [
        "import pandas as pd\n",
        "import numpy as np\n",
        "import matplotlib.pyplot as plt\n",
        "import seaborn as sns\n",
        "import math\n",
        "import matplotlib as mpl\n",
        "\n",
        "from sklearn.ensemble import RandomForestClassifier\n",
        "from sklearn.model_selection import cross_val_score\n",
        "from xgboost import XGBClassifier\n",
        "from sklearn.ensemble import ExtraTreesClassifier, AdaBoostClassifier\n",
        "from sklearn.linear_model import LogisticRegression \n",
        "from sklearn.neighbors import KNeighborsClassifier\n",
        "from sklearn.svm import LinearSVC\n",
        "# from lightgbm import LGBMClassifier\n",
        "from sklearn.tree import DecisionTreeClassifier\n",
        "from sklearn.model_selection import StratifiedKFold, learning_curve, ShuffleSplit\n",
        "from sklearn.preprocessing import StandardScaler\n",
        "from sklearn.pipeline import Pipeline\n",
        "from sklearn.ensemble import VotingClassifier, IsolationForest\n",
        "from sklearn.model_selection import train_test_split\n",
        "from sklearn.metrics import f1_score\n",
        "from sklearn.neural_network import MLPClassifier\n",
        "from sklearn.naive_bayes import BernoulliNB\n",
        "from sklearn.metrics import confusion_matrix"
      ]
    },
    {
      "cell_type": "code",
      "execution_count": 115,
      "metadata": {
        "colab": {},
        "colab_type": "code",
        "id": "yRf5Ysw5wDmh"
      },
      "outputs": [],
      "source": [
        "X = train.drop(columns=['id','sentiment_class'])\n",
        "y = train.sentiment_class"
      ]
    },
    {
      "cell_type": "code",
      "execution_count": 116,
      "metadata": {
        "colab": {
          "base_uri": "https://localhost:8080/",
          "height": 117
        },
        "colab_type": "code",
        "id": "QAQXbg0nwr9s",
        "outputId": "9392e6d6-b292-4864-926b-1f084e7c739e"
      },
      "outputs": [
        {
          "name": "stdout",
          "output_type": "stream",
          "text": [
            "Percentage of each class in Target Variable \n",
            "\n",
            "A    52.581144\n",
            "C    23.771252\n",
            "B    23.647604\n",
            "Name: sentiment_class, dtype: float64\n"
          ]
        }
      ],
      "source": [
        "print('Percentage of each class in Target Variable \\n')\n",
        "print((train.sentiment_class.value_counts()/len(train))*100)"
      ]
    },
    {
      "cell_type": "code",
      "execution_count": 31,
      "metadata": {
        "colab": {
          "base_uri": "https://localhost:8080/",
          "height": 67
        },
        "colab_type": "code",
        "id": "OmlpBWegwwO2",
        "outputId": "7b79e134-7e53-4188-91c6-f6c5b89b9efa"
      },
      "outputs": [
        {
          "name": "stderr",
          "output_type": "stream",
          "text": [
            "[Parallel(n_jobs=-1)]: Using backend LokyBackend with 2 concurrent workers.\n",
            "[Parallel(n_jobs=-1)]: Done   5 out of   5 | elapsed:   16.8s finished\n"
          ]
        },
        {
          "data": {
            "text/plain": [
              "0.4151176509381983"
            ]
          },
          "execution_count": 31,
          "metadata": {
            "tags": []
          },
          "output_type": "execute_result"
        }
      ],
      "source": [
        "rfc = RandomForestClassifier(n_estimators=200, n_jobs=-1, random_state=42, max_features=0.7 , bootstrap=False)\n",
        "cross_val_score(rfc, X, y, cv=5, n_jobs=-1, verbose=1, scoring='f1_weighted').mean()"
      ]
    },
    {
      "cell_type": "code",
      "execution_count": 32,
      "metadata": {
        "colab": {
          "base_uri": "https://localhost:8080/",
          "height": 355
        },
        "colab_type": "code",
        "id": "T7i-pTndw2F-",
        "outputId": "a221d036-2da9-43d8-fa9a-db7a4f509976"
      },
      "outputs": [
        {
          "name": "stderr",
          "output_type": "stream",
          "text": [
            "/usr/local/lib/python3.6/dist-packages/pandas/io/formats/style.py:1089: RuntimeWarning: All-NaN slice encountered\n",
            "  smin = np.nanmin(s.to_numpy()) if vmin is None else vmin\n",
            "/usr/local/lib/python3.6/dist-packages/pandas/io/formats/style.py:1090: RuntimeWarning: All-NaN slice encountered\n",
            "  smax = np.nanmax(s.to_numpy()) if vmax is None else vmax\n"
          ]
        },
        {
          "data": {
            "text/html": [
              "<style  type=\"text/css\" >\n",
              "    #T_d99c67fa_ab3f_11ea_b066_0242ac1c0002row0_col0 {\n",
              "            background-color:  #b40426;\n",
              "            color:  #f1f1f1;\n",
              "        }    #T_d99c67fa_ab3f_11ea_b066_0242ac1c0002row0_col1 {\n",
              "            background-color:  #3b4cc0;\n",
              "            color:  #f1f1f1;\n",
              "        }    #T_d99c67fa_ab3f_11ea_b066_0242ac1c0002row0_col2 {\n",
              "            background-color:  #d8dce2;\n",
              "            color:  #000000;\n",
              "        }    #T_d99c67fa_ab3f_11ea_b066_0242ac1c0002row0_col3 {\n",
              "            background-color:  #93b5fe;\n",
              "            color:  #000000;\n",
              "        }    #T_d99c67fa_ab3f_11ea_b066_0242ac1c0002row0_col4 {\n",
              "            background-color:  #779af7;\n",
              "            color:  #000000;\n",
              "        }    #T_d99c67fa_ab3f_11ea_b066_0242ac1c0002row0_col5 {\n",
              "            background-color:  #b6cefa;\n",
              "            color:  #000000;\n",
              "        }    #T_d99c67fa_ab3f_11ea_b066_0242ac1c0002row0_col6 {\n",
              "            background-color:  #b2ccfb;\n",
              "            color:  #000000;\n",
              "        }    #T_d99c67fa_ab3f_11ea_b066_0242ac1c0002row0_col7 {\n",
              "            background-color:  #000000;\n",
              "            color:  #f1f1f1;\n",
              "        }    #T_d99c67fa_ab3f_11ea_b066_0242ac1c0002row0_col8 {\n",
              "            background-color:  #000000;\n",
              "            color:  #f1f1f1;\n",
              "        }    #T_d99c67fa_ab3f_11ea_b066_0242ac1c0002row0_col9 {\n",
              "            background-color:  #aec9fc;\n",
              "            color:  #000000;\n",
              "        }    #T_d99c67fa_ab3f_11ea_b066_0242ac1c0002row0_col10 {\n",
              "            background-color:  #000000;\n",
              "            color:  #f1f1f1;\n",
              "        }    #T_d99c67fa_ab3f_11ea_b066_0242ac1c0002row0_col11 {\n",
              "            background-color:  #779af7;\n",
              "            color:  #000000;\n",
              "        }    #T_d99c67fa_ab3f_11ea_b066_0242ac1c0002row0_col12 {\n",
              "            background-color:  #89acfd;\n",
              "            color:  #000000;\n",
              "        }    #T_d99c67fa_ab3f_11ea_b066_0242ac1c0002row0_col13 {\n",
              "            background-color:  #84a7fc;\n",
              "            color:  #000000;\n",
              "        }    #T_d99c67fa_ab3f_11ea_b066_0242ac1c0002row1_col0 {\n",
              "            background-color:  #3b4cc0;\n",
              "            color:  #f1f1f1;\n",
              "        }    #T_d99c67fa_ab3f_11ea_b066_0242ac1c0002row1_col1 {\n",
              "            background-color:  #b40426;\n",
              "            color:  #f1f1f1;\n",
              "        }    #T_d99c67fa_ab3f_11ea_b066_0242ac1c0002row1_col2 {\n",
              "            background-color:  #3b4cc0;\n",
              "            color:  #f1f1f1;\n",
              "        }    #T_d99c67fa_ab3f_11ea_b066_0242ac1c0002row1_col3 {\n",
              "            background-color:  #94b6ff;\n",
              "            color:  #000000;\n",
              "        }    #T_d99c67fa_ab3f_11ea_b066_0242ac1c0002row1_col4 {\n",
              "            background-color:  #7699f6;\n",
              "            color:  #000000;\n",
              "        }    #T_d99c67fa_ab3f_11ea_b066_0242ac1c0002row1_col5 {\n",
              "            background-color:  #b3cdfb;\n",
              "            color:  #000000;\n",
              "        }    #T_d99c67fa_ab3f_11ea_b066_0242ac1c0002row1_col6 {\n",
              "            background-color:  #b9d0f9;\n",
              "            color:  #000000;\n",
              "        }    #T_d99c67fa_ab3f_11ea_b066_0242ac1c0002row1_col7 {\n",
              "            background-color:  #000000;\n",
              "            color:  #f1f1f1;\n",
              "        }    #T_d99c67fa_ab3f_11ea_b066_0242ac1c0002row1_col8 {\n",
              "            background-color:  #000000;\n",
              "            color:  #f1f1f1;\n",
              "        }    #T_d99c67fa_ab3f_11ea_b066_0242ac1c0002row1_col9 {\n",
              "            background-color:  #abc8fd;\n",
              "            color:  #000000;\n",
              "        }    #T_d99c67fa_ab3f_11ea_b066_0242ac1c0002row1_col10 {\n",
              "            background-color:  #000000;\n",
              "            color:  #f1f1f1;\n",
              "        }    #T_d99c67fa_ab3f_11ea_b066_0242ac1c0002row1_col11 {\n",
              "            background-color:  #7699f6;\n",
              "            color:  #000000;\n",
              "        }    #T_d99c67fa_ab3f_11ea_b066_0242ac1c0002row1_col12 {\n",
              "            background-color:  #92b4fe;\n",
              "            color:  #000000;\n",
              "        }    #T_d99c67fa_ab3f_11ea_b066_0242ac1c0002row1_col13 {\n",
              "            background-color:  #89acfd;\n",
              "            color:  #000000;\n",
              "        }    #T_d99c67fa_ab3f_11ea_b066_0242ac1c0002row2_col0 {\n",
              "            background-color:  #edd2c3;\n",
              "            color:  #000000;\n",
              "        }    #T_d99c67fa_ab3f_11ea_b066_0242ac1c0002row2_col1 {\n",
              "            background-color:  #6f92f3;\n",
              "            color:  #000000;\n",
              "        }    #T_d99c67fa_ab3f_11ea_b066_0242ac1c0002row2_col2 {\n",
              "            background-color:  #b40426;\n",
              "            color:  #f1f1f1;\n",
              "        }    #T_d99c67fa_ab3f_11ea_b066_0242ac1c0002row2_col3 {\n",
              "            background-color:  #92b4fe;\n",
              "            color:  #000000;\n",
              "        }    #T_d99c67fa_ab3f_11ea_b066_0242ac1c0002row2_col4 {\n",
              "            background-color:  #779af7;\n",
              "            color:  #000000;\n",
              "        }    #T_d99c67fa_ab3f_11ea_b066_0242ac1c0002row2_col5 {\n",
              "            background-color:  #b9d0f9;\n",
              "            color:  #000000;\n",
              "        }    #T_d99c67fa_ab3f_11ea_b066_0242ac1c0002row2_col6 {\n",
              "            background-color:  #b2ccfb;\n",
              "            color:  #000000;\n",
              "        }    #T_d99c67fa_ab3f_11ea_b066_0242ac1c0002row2_col7 {\n",
              "            background-color:  #000000;\n",
              "            color:  #f1f1f1;\n",
              "        }    #T_d99c67fa_ab3f_11ea_b066_0242ac1c0002row2_col8 {\n",
              "            background-color:  #000000;\n",
              "            color:  #f1f1f1;\n",
              "        }    #T_d99c67fa_ab3f_11ea_b066_0242ac1c0002row2_col9 {\n",
              "            background-color:  #b2ccfb;\n",
              "            color:  #000000;\n",
              "        }    #T_d99c67fa_ab3f_11ea_b066_0242ac1c0002row2_col10 {\n",
              "            background-color:  #000000;\n",
              "            color:  #f1f1f1;\n",
              "        }    #T_d99c67fa_ab3f_11ea_b066_0242ac1c0002row2_col11 {\n",
              "            background-color:  #779af7;\n",
              "            color:  #000000;\n",
              "        }    #T_d99c67fa_ab3f_11ea_b066_0242ac1c0002row2_col12 {\n",
              "            background-color:  #89acfd;\n",
              "            color:  #000000;\n",
              "        }    #T_d99c67fa_ab3f_11ea_b066_0242ac1c0002row2_col13 {\n",
              "            background-color:  #89acfd;\n",
              "            color:  #000000;\n",
              "        }    #T_d99c67fa_ab3f_11ea_b066_0242ac1c0002row3_col0 {\n",
              "            background-color:  #a3c2fe;\n",
              "            color:  #000000;\n",
              "        }    #T_d99c67fa_ab3f_11ea_b066_0242ac1c0002row3_col1 {\n",
              "            background-color:  #a5c3fe;\n",
              "            color:  #000000;\n",
              "        }    #T_d99c67fa_ab3f_11ea_b066_0242ac1c0002row3_col2 {\n",
              "            background-color:  #7396f5;\n",
              "            color:  #000000;\n",
              "        }    #T_d99c67fa_ab3f_11ea_b066_0242ac1c0002row3_col3 {\n",
              "            background-color:  #b40426;\n",
              "            color:  #f1f1f1;\n",
              "        }    #T_d99c67fa_ab3f_11ea_b066_0242ac1c0002row3_col4 {\n",
              "            background-color:  #d0473d;\n",
              "            color:  #f1f1f1;\n",
              "        }    #T_d99c67fa_ab3f_11ea_b066_0242ac1c0002row3_col5 {\n",
              "            background-color:  #6485ec;\n",
              "            color:  #000000;\n",
              "        }    #T_d99c67fa_ab3f_11ea_b066_0242ac1c0002row3_col6 {\n",
              "            background-color:  #e36b54;\n",
              "            color:  #000000;\n",
              "        }    #T_d99c67fa_ab3f_11ea_b066_0242ac1c0002row3_col7 {\n",
              "            background-color:  #000000;\n",
              "            color:  #f1f1f1;\n",
              "        }    #T_d99c67fa_ab3f_11ea_b066_0242ac1c0002row3_col8 {\n",
              "            background-color:  #000000;\n",
              "            color:  #f1f1f1;\n",
              "        }    #T_d99c67fa_ab3f_11ea_b066_0242ac1c0002row3_col9 {\n",
              "            background-color:  #6e90f2;\n",
              "            color:  #000000;\n",
              "        }    #T_d99c67fa_ab3f_11ea_b066_0242ac1c0002row3_col10 {\n",
              "            background-color:  #000000;\n",
              "            color:  #f1f1f1;\n",
              "        }    #T_d99c67fa_ab3f_11ea_b066_0242ac1c0002row3_col11 {\n",
              "            background-color:  #d0473d;\n",
              "            color:  #f1f1f1;\n",
              "        }    #T_d99c67fa_ab3f_11ea_b066_0242ac1c0002row3_col12 {\n",
              "            background-color:  #3b4cc0;\n",
              "            color:  #f1f1f1;\n",
              "        }    #T_d99c67fa_ab3f_11ea_b066_0242ac1c0002row3_col13 {\n",
              "            background-color:  #3b4cc0;\n",
              "            color:  #f1f1f1;\n",
              "        }    #T_d99c67fa_ab3f_11ea_b066_0242ac1c0002row4_col0 {\n",
              "            background-color:  #a3c2fe;\n",
              "            color:  #000000;\n",
              "        }    #T_d99c67fa_ab3f_11ea_b066_0242ac1c0002row4_col1 {\n",
              "            background-color:  #a3c2fe;\n",
              "            color:  #000000;\n",
              "        }    #T_d99c67fa_ab3f_11ea_b066_0242ac1c0002row4_col2 {\n",
              "            background-color:  #7597f6;\n",
              "            color:  #000000;\n",
              "        }    #T_d99c67fa_ab3f_11ea_b066_0242ac1c0002row4_col3 {\n",
              "            background-color:  #cd423b;\n",
              "            color:  #f1f1f1;\n",
              "        }    #T_d99c67fa_ab3f_11ea_b066_0242ac1c0002row4_col4 {\n",
              "            background-color:  #b40426;\n",
              "            color:  #f1f1f1;\n",
              "        }    #T_d99c67fa_ab3f_11ea_b066_0242ac1c0002row4_col5 {\n",
              "            background-color:  #c1d4f4;\n",
              "            color:  #000000;\n",
              "        }    #T_d99c67fa_ab3f_11ea_b066_0242ac1c0002row4_col6 {\n",
              "            background-color:  #f7a98b;\n",
              "            color:  #000000;\n",
              "        }    #T_d99c67fa_ab3f_11ea_b066_0242ac1c0002row4_col7 {\n",
              "            background-color:  #000000;\n",
              "            color:  #f1f1f1;\n",
              "        }    #T_d99c67fa_ab3f_11ea_b066_0242ac1c0002row4_col8 {\n",
              "            background-color:  #000000;\n",
              "            color:  #f1f1f1;\n",
              "        }    #T_d99c67fa_ab3f_11ea_b066_0242ac1c0002row4_col9 {\n",
              "            background-color:  #cdd9ec;\n",
              "            color:  #000000;\n",
              "        }    #T_d99c67fa_ab3f_11ea_b066_0242ac1c0002row4_col10 {\n",
              "            background-color:  #000000;\n",
              "            color:  #f1f1f1;\n",
              "        }    #T_d99c67fa_ab3f_11ea_b066_0242ac1c0002row4_col11 {\n",
              "            background-color:  #b40426;\n",
              "            color:  #f1f1f1;\n",
              "        }    #T_d99c67fa_ab3f_11ea_b066_0242ac1c0002row4_col12 {\n",
              "            background-color:  #516ddb;\n",
              "            color:  #000000;\n",
              "        }    #T_d99c67fa_ab3f_11ea_b066_0242ac1c0002row4_col13 {\n",
              "            background-color:  #536edd;\n",
              "            color:  #000000;\n",
              "        }    #T_d99c67fa_ab3f_11ea_b066_0242ac1c0002row5_col0 {\n",
              "            background-color:  #a5c3fe;\n",
              "            color:  #000000;\n",
              "        }    #T_d99c67fa_ab3f_11ea_b066_0242ac1c0002row5_col1 {\n",
              "            background-color:  #a2c1ff;\n",
              "            color:  #000000;\n",
              "        }    #T_d99c67fa_ab3f_11ea_b066_0242ac1c0002row5_col2 {\n",
              "            background-color:  #799cf8;\n",
              "            color:  #000000;\n",
              "        }    #T_d99c67fa_ab3f_11ea_b066_0242ac1c0002row5_col3 {\n",
              "            background-color:  #3b4cc0;\n",
              "            color:  #f1f1f1;\n",
              "        }    #T_d99c67fa_ab3f_11ea_b066_0242ac1c0002row5_col4 {\n",
              "            background-color:  #88abfd;\n",
              "            color:  #000000;\n",
              "        }    #T_d99c67fa_ab3f_11ea_b066_0242ac1c0002row5_col5 {\n",
              "            background-color:  #b40426;\n",
              "            color:  #f1f1f1;\n",
              "        }    #T_d99c67fa_ab3f_11ea_b066_0242ac1c0002row5_col6 {\n",
              "            background-color:  #3b4cc0;\n",
              "            color:  #f1f1f1;\n",
              "        }    #T_d99c67fa_ab3f_11ea_b066_0242ac1c0002row5_col7 {\n",
              "            background-color:  #000000;\n",
              "            color:  #f1f1f1;\n",
              "        }    #T_d99c67fa_ab3f_11ea_b066_0242ac1c0002row5_col8 {\n",
              "            background-color:  #000000;\n",
              "            color:  #f1f1f1;\n",
              "        }    #T_d99c67fa_ab3f_11ea_b066_0242ac1c0002row5_col9 {\n",
              "            background-color:  #b50927;\n",
              "            color:  #f1f1f1;\n",
              "        }    #T_d99c67fa_ab3f_11ea_b066_0242ac1c0002row5_col10 {\n",
              "            background-color:  #000000;\n",
              "            color:  #f1f1f1;\n",
              "        }    #T_d99c67fa_ab3f_11ea_b066_0242ac1c0002row5_col11 {\n",
              "            background-color:  #88abfd;\n",
              "            color:  #000000;\n",
              "        }    #T_d99c67fa_ab3f_11ea_b066_0242ac1c0002row5_col12 {\n",
              "            background-color:  #d3dbe7;\n",
              "            color:  #000000;\n",
              "        }    #T_d99c67fa_ab3f_11ea_b066_0242ac1c0002row5_col13 {\n",
              "            background-color:  #d1dae9;\n",
              "            color:  #000000;\n",
              "        }    #T_d99c67fa_ab3f_11ea_b066_0242ac1c0002row6_col0 {\n",
              "            background-color:  #a1c0ff;\n",
              "            color:  #000000;\n",
              "        }    #T_d99c67fa_ab3f_11ea_b066_0242ac1c0002row6_col1 {\n",
              "            background-color:  #a7c5fe;\n",
              "            color:  #000000;\n",
              "        }    #T_d99c67fa_ab3f_11ea_b066_0242ac1c0002row6_col2 {\n",
              "            background-color:  #7093f3;\n",
              "            color:  #000000;\n",
              "        }    #T_d99c67fa_ab3f_11ea_b066_0242ac1c0002row6_col3 {\n",
              "            background-color:  #e7745b;\n",
              "            color:  #000000;\n",
              "        }    #T_d99c67fa_ab3f_11ea_b066_0242ac1c0002row6_col4 {\n",
              "            background-color:  #f5c4ac;\n",
              "            color:  #000000;\n",
              "        }    #T_d99c67fa_ab3f_11ea_b066_0242ac1c0002row6_col5 {\n",
              "            background-color:  #3b4cc0;\n",
              "            color:  #f1f1f1;\n",
              "        }    #T_d99c67fa_ab3f_11ea_b066_0242ac1c0002row6_col6 {\n",
              "            background-color:  #b40426;\n",
              "            color:  #f1f1f1;\n",
              "        }    #T_d99c67fa_ab3f_11ea_b066_0242ac1c0002row6_col7 {\n",
              "            background-color:  #000000;\n",
              "            color:  #f1f1f1;\n",
              "        }    #T_d99c67fa_ab3f_11ea_b066_0242ac1c0002row6_col8 {\n",
              "            background-color:  #000000;\n",
              "            color:  #f1f1f1;\n",
              "        }    #T_d99c67fa_ab3f_11ea_b066_0242ac1c0002row6_col9 {\n",
              "            background-color:  #3b4cc0;\n",
              "            color:  #f1f1f1;\n",
              "        }    #T_d99c67fa_ab3f_11ea_b066_0242ac1c0002row6_col10 {\n",
              "            background-color:  #000000;\n",
              "            color:  #f1f1f1;\n",
              "        }    #T_d99c67fa_ab3f_11ea_b066_0242ac1c0002row6_col11 {\n",
              "            background-color:  #f5c4ac;\n",
              "            color:  #000000;\n",
              "        }    #T_d99c67fa_ab3f_11ea_b066_0242ac1c0002row6_col12 {\n",
              "            background-color:  #4257c9;\n",
              "            color:  #f1f1f1;\n",
              "        }    #T_d99c67fa_ab3f_11ea_b066_0242ac1c0002row6_col13 {\n",
              "            background-color:  #485fd1;\n",
              "            color:  #f1f1f1;\n",
              "        }    #T_d99c67fa_ab3f_11ea_b066_0242ac1c0002row7_col0 {\n",
              "            background-color:  #000000;\n",
              "            color:  #f1f1f1;\n",
              "        }    #T_d99c67fa_ab3f_11ea_b066_0242ac1c0002row7_col1 {\n",
              "            background-color:  #000000;\n",
              "            color:  #f1f1f1;\n",
              "        }    #T_d99c67fa_ab3f_11ea_b066_0242ac1c0002row7_col2 {\n",
              "            background-color:  #000000;\n",
              "            color:  #f1f1f1;\n",
              "        }    #T_d99c67fa_ab3f_11ea_b066_0242ac1c0002row7_col3 {\n",
              "            background-color:  #000000;\n",
              "            color:  #f1f1f1;\n",
              "        }    #T_d99c67fa_ab3f_11ea_b066_0242ac1c0002row7_col4 {\n",
              "            background-color:  #000000;\n",
              "            color:  #f1f1f1;\n",
              "        }    #T_d99c67fa_ab3f_11ea_b066_0242ac1c0002row7_col5 {\n",
              "            background-color:  #000000;\n",
              "            color:  #f1f1f1;\n",
              "        }    #T_d99c67fa_ab3f_11ea_b066_0242ac1c0002row7_col6 {\n",
              "            background-color:  #000000;\n",
              "            color:  #f1f1f1;\n",
              "        }    #T_d99c67fa_ab3f_11ea_b066_0242ac1c0002row7_col7 {\n",
              "            background-color:  #000000;\n",
              "            color:  #f1f1f1;\n",
              "        }    #T_d99c67fa_ab3f_11ea_b066_0242ac1c0002row7_col8 {\n",
              "            background-color:  #000000;\n",
              "            color:  #f1f1f1;\n",
              "        }    #T_d99c67fa_ab3f_11ea_b066_0242ac1c0002row7_col9 {\n",
              "            background-color:  #000000;\n",
              "            color:  #f1f1f1;\n",
              "        }    #T_d99c67fa_ab3f_11ea_b066_0242ac1c0002row7_col10 {\n",
              "            background-color:  #000000;\n",
              "            color:  #f1f1f1;\n",
              "        }    #T_d99c67fa_ab3f_11ea_b066_0242ac1c0002row7_col11 {\n",
              "            background-color:  #000000;\n",
              "            color:  #f1f1f1;\n",
              "        }    #T_d99c67fa_ab3f_11ea_b066_0242ac1c0002row7_col12 {\n",
              "            background-color:  #000000;\n",
              "            color:  #f1f1f1;\n",
              "        }    #T_d99c67fa_ab3f_11ea_b066_0242ac1c0002row7_col13 {\n",
              "            background-color:  #000000;\n",
              "            color:  #f1f1f1;\n",
              "        }    #T_d99c67fa_ab3f_11ea_b066_0242ac1c0002row8_col0 {\n",
              "            background-color:  #000000;\n",
              "            color:  #f1f1f1;\n",
              "        }    #T_d99c67fa_ab3f_11ea_b066_0242ac1c0002row8_col1 {\n",
              "            background-color:  #000000;\n",
              "            color:  #f1f1f1;\n",
              "        }    #T_d99c67fa_ab3f_11ea_b066_0242ac1c0002row8_col2 {\n",
              "            background-color:  #000000;\n",
              "            color:  #f1f1f1;\n",
              "        }    #T_d99c67fa_ab3f_11ea_b066_0242ac1c0002row8_col3 {\n",
              "            background-color:  #000000;\n",
              "            color:  #f1f1f1;\n",
              "        }    #T_d99c67fa_ab3f_11ea_b066_0242ac1c0002row8_col4 {\n",
              "            background-color:  #000000;\n",
              "            color:  #f1f1f1;\n",
              "        }    #T_d99c67fa_ab3f_11ea_b066_0242ac1c0002row8_col5 {\n",
              "            background-color:  #000000;\n",
              "            color:  #f1f1f1;\n",
              "        }    #T_d99c67fa_ab3f_11ea_b066_0242ac1c0002row8_col6 {\n",
              "            background-color:  #000000;\n",
              "            color:  #f1f1f1;\n",
              "        }    #T_d99c67fa_ab3f_11ea_b066_0242ac1c0002row8_col7 {\n",
              "            background-color:  #000000;\n",
              "            color:  #f1f1f1;\n",
              "        }    #T_d99c67fa_ab3f_11ea_b066_0242ac1c0002row8_col8 {\n",
              "            background-color:  #000000;\n",
              "            color:  #f1f1f1;\n",
              "        }    #T_d99c67fa_ab3f_11ea_b066_0242ac1c0002row8_col9 {\n",
              "            background-color:  #000000;\n",
              "            color:  #f1f1f1;\n",
              "        }    #T_d99c67fa_ab3f_11ea_b066_0242ac1c0002row8_col10 {\n",
              "            background-color:  #000000;\n",
              "            color:  #f1f1f1;\n",
              "        }    #T_d99c67fa_ab3f_11ea_b066_0242ac1c0002row8_col11 {\n",
              "            background-color:  #000000;\n",
              "            color:  #f1f1f1;\n",
              "        }    #T_d99c67fa_ab3f_11ea_b066_0242ac1c0002row8_col12 {\n",
              "            background-color:  #000000;\n",
              "            color:  #f1f1f1;\n",
              "        }    #T_d99c67fa_ab3f_11ea_b066_0242ac1c0002row8_col13 {\n",
              "            background-color:  #000000;\n",
              "            color:  #f1f1f1;\n",
              "        }    #T_d99c67fa_ab3f_11ea_b066_0242ac1c0002row9_col0 {\n",
              "            background-color:  #a5c3fe;\n",
              "            color:  #000000;\n",
              "        }    #T_d99c67fa_ab3f_11ea_b066_0242ac1c0002row9_col1 {\n",
              "            background-color:  #a2c1ff;\n",
              "            color:  #000000;\n",
              "        }    #T_d99c67fa_ab3f_11ea_b066_0242ac1c0002row9_col2 {\n",
              "            background-color:  #7a9df8;\n",
              "            color:  #000000;\n",
              "        }    #T_d99c67fa_ab3f_11ea_b066_0242ac1c0002row9_col3 {\n",
              "            background-color:  #4e68d8;\n",
              "            color:  #000000;\n",
              "        }    #T_d99c67fa_ab3f_11ea_b066_0242ac1c0002row9_col4 {\n",
              "            background-color:  #a2c1ff;\n",
              "            color:  #000000;\n",
              "        }    #T_d99c67fa_ab3f_11ea_b066_0242ac1c0002row9_col5 {\n",
              "            background-color:  #b50927;\n",
              "            color:  #f1f1f1;\n",
              "        }    #T_d99c67fa_ab3f_11ea_b066_0242ac1c0002row9_col6 {\n",
              "            background-color:  #445acc;\n",
              "            color:  #f1f1f1;\n",
              "        }    #T_d99c67fa_ab3f_11ea_b066_0242ac1c0002row9_col7 {\n",
              "            background-color:  #000000;\n",
              "            color:  #f1f1f1;\n",
              "        }    #T_d99c67fa_ab3f_11ea_b066_0242ac1c0002row9_col8 {\n",
              "            background-color:  #000000;\n",
              "            color:  #f1f1f1;\n",
              "        }    #T_d99c67fa_ab3f_11ea_b066_0242ac1c0002row9_col9 {\n",
              "            background-color:  #b40426;\n",
              "            color:  #f1f1f1;\n",
              "        }    #T_d99c67fa_ab3f_11ea_b066_0242ac1c0002row9_col10 {\n",
              "            background-color:  #000000;\n",
              "            color:  #f1f1f1;\n",
              "        }    #T_d99c67fa_ab3f_11ea_b066_0242ac1c0002row9_col11 {\n",
              "            background-color:  #a2c1ff;\n",
              "            color:  #000000;\n",
              "        }    #T_d99c67fa_ab3f_11ea_b066_0242ac1c0002row9_col12 {\n",
              "            background-color:  #cdd9ec;\n",
              "            color:  #000000;\n",
              "        }    #T_d99c67fa_ab3f_11ea_b066_0242ac1c0002row9_col13 {\n",
              "            background-color:  #cbd8ee;\n",
              "            color:  #000000;\n",
              "        }    #T_d99c67fa_ab3f_11ea_b066_0242ac1c0002row10_col0 {\n",
              "            background-color:  #000000;\n",
              "            color:  #f1f1f1;\n",
              "        }    #T_d99c67fa_ab3f_11ea_b066_0242ac1c0002row10_col1 {\n",
              "            background-color:  #000000;\n",
              "            color:  #f1f1f1;\n",
              "        }    #T_d99c67fa_ab3f_11ea_b066_0242ac1c0002row10_col2 {\n",
              "            background-color:  #000000;\n",
              "            color:  #f1f1f1;\n",
              "        }    #T_d99c67fa_ab3f_11ea_b066_0242ac1c0002row10_col3 {\n",
              "            background-color:  #000000;\n",
              "            color:  #f1f1f1;\n",
              "        }    #T_d99c67fa_ab3f_11ea_b066_0242ac1c0002row10_col4 {\n",
              "            background-color:  #000000;\n",
              "            color:  #f1f1f1;\n",
              "        }    #T_d99c67fa_ab3f_11ea_b066_0242ac1c0002row10_col5 {\n",
              "            background-color:  #000000;\n",
              "            color:  #f1f1f1;\n",
              "        }    #T_d99c67fa_ab3f_11ea_b066_0242ac1c0002row10_col6 {\n",
              "            background-color:  #000000;\n",
              "            color:  #f1f1f1;\n",
              "        }    #T_d99c67fa_ab3f_11ea_b066_0242ac1c0002row10_col7 {\n",
              "            background-color:  #000000;\n",
              "            color:  #f1f1f1;\n",
              "        }    #T_d99c67fa_ab3f_11ea_b066_0242ac1c0002row10_col8 {\n",
              "            background-color:  #000000;\n",
              "            color:  #f1f1f1;\n",
              "        }    #T_d99c67fa_ab3f_11ea_b066_0242ac1c0002row10_col9 {\n",
              "            background-color:  #000000;\n",
              "            color:  #f1f1f1;\n",
              "        }    #T_d99c67fa_ab3f_11ea_b066_0242ac1c0002row10_col10 {\n",
              "            background-color:  #000000;\n",
              "            color:  #f1f1f1;\n",
              "        }    #T_d99c67fa_ab3f_11ea_b066_0242ac1c0002row10_col11 {\n",
              "            background-color:  #000000;\n",
              "            color:  #f1f1f1;\n",
              "        }    #T_d99c67fa_ab3f_11ea_b066_0242ac1c0002row10_col12 {\n",
              "            background-color:  #000000;\n",
              "            color:  #f1f1f1;\n",
              "        }    #T_d99c67fa_ab3f_11ea_b066_0242ac1c0002row10_col13 {\n",
              "            background-color:  #000000;\n",
              "            color:  #f1f1f1;\n",
              "        }    #T_d99c67fa_ab3f_11ea_b066_0242ac1c0002row11_col0 {\n",
              "            background-color:  #a3c2fe;\n",
              "            color:  #000000;\n",
              "        }    #T_d99c67fa_ab3f_11ea_b066_0242ac1c0002row11_col1 {\n",
              "            background-color:  #a3c2fe;\n",
              "            color:  #000000;\n",
              "        }    #T_d99c67fa_ab3f_11ea_b066_0242ac1c0002row11_col2 {\n",
              "            background-color:  #7597f6;\n",
              "            color:  #000000;\n",
              "        }    #T_d99c67fa_ab3f_11ea_b066_0242ac1c0002row11_col3 {\n",
              "            background-color:  #cd423b;\n",
              "            color:  #f1f1f1;\n",
              "        }    #T_d99c67fa_ab3f_11ea_b066_0242ac1c0002row11_col4 {\n",
              "            background-color:  #b40426;\n",
              "            color:  #f1f1f1;\n",
              "        }    #T_d99c67fa_ab3f_11ea_b066_0242ac1c0002row11_col5 {\n",
              "            background-color:  #c1d4f4;\n",
              "            color:  #000000;\n",
              "        }    #T_d99c67fa_ab3f_11ea_b066_0242ac1c0002row11_col6 {\n",
              "            background-color:  #f7a98b;\n",
              "            color:  #000000;\n",
              "        }    #T_d99c67fa_ab3f_11ea_b066_0242ac1c0002row11_col7 {\n",
              "            background-color:  #000000;\n",
              "            color:  #f1f1f1;\n",
              "        }    #T_d99c67fa_ab3f_11ea_b066_0242ac1c0002row11_col8 {\n",
              "            background-color:  #000000;\n",
              "            color:  #f1f1f1;\n",
              "        }    #T_d99c67fa_ab3f_11ea_b066_0242ac1c0002row11_col9 {\n",
              "            background-color:  #cdd9ec;\n",
              "            color:  #000000;\n",
              "        }    #T_d99c67fa_ab3f_11ea_b066_0242ac1c0002row11_col10 {\n",
              "            background-color:  #000000;\n",
              "            color:  #f1f1f1;\n",
              "        }    #T_d99c67fa_ab3f_11ea_b066_0242ac1c0002row11_col11 {\n",
              "            background-color:  #b40426;\n",
              "            color:  #f1f1f1;\n",
              "        }    #T_d99c67fa_ab3f_11ea_b066_0242ac1c0002row11_col12 {\n",
              "            background-color:  #516ddb;\n",
              "            color:  #000000;\n",
              "        }    #T_d99c67fa_ab3f_11ea_b066_0242ac1c0002row11_col13 {\n",
              "            background-color:  #536edd;\n",
              "            color:  #000000;\n",
              "        }    #T_d99c67fa_ab3f_11ea_b066_0242ac1c0002row12_col0 {\n",
              "            background-color:  #a1c0ff;\n",
              "            color:  #000000;\n",
              "        }    #T_d99c67fa_ab3f_11ea_b066_0242ac1c0002row12_col1 {\n",
              "            background-color:  #a9c6fd;\n",
              "            color:  #000000;\n",
              "        }    #T_d99c67fa_ab3f_11ea_b066_0242ac1c0002row12_col2 {\n",
              "            background-color:  #6f92f3;\n",
              "            color:  #000000;\n",
              "        }    #T_d99c67fa_ab3f_11ea_b066_0242ac1c0002row12_col3 {\n",
              "            background-color:  #4257c9;\n",
              "            color:  #f1f1f1;\n",
              "        }    #T_d99c67fa_ab3f_11ea_b066_0242ac1c0002row12_col4 {\n",
              "            background-color:  #3b4cc0;\n",
              "            color:  #f1f1f1;\n",
              "        }    #T_d99c67fa_ab3f_11ea_b066_0242ac1c0002row12_col5 {\n",
              "            background-color:  #e8d6cc;\n",
              "            color:  #000000;\n",
              "        }    #T_d99c67fa_ab3f_11ea_b066_0242ac1c0002row12_col6 {\n",
              "            background-color:  #7396f5;\n",
              "            color:  #000000;\n",
              "        }    #T_d99c67fa_ab3f_11ea_b066_0242ac1c0002row12_col7 {\n",
              "            background-color:  #000000;\n",
              "            color:  #f1f1f1;\n",
              "        }    #T_d99c67fa_ab3f_11ea_b066_0242ac1c0002row12_col8 {\n",
              "            background-color:  #000000;\n",
              "            color:  #f1f1f1;\n",
              "        }    #T_d99c67fa_ab3f_11ea_b066_0242ac1c0002row12_col9 {\n",
              "            background-color:  #dfdbd9;\n",
              "            color:  #000000;\n",
              "        }    #T_d99c67fa_ab3f_11ea_b066_0242ac1c0002row12_col10 {\n",
              "            background-color:  #000000;\n",
              "            color:  #f1f1f1;\n",
              "        }    #T_d99c67fa_ab3f_11ea_b066_0242ac1c0002row12_col11 {\n",
              "            background-color:  #3b4cc0;\n",
              "            color:  #f1f1f1;\n",
              "        }    #T_d99c67fa_ab3f_11ea_b066_0242ac1c0002row12_col12 {\n",
              "            background-color:  #b40426;\n",
              "            color:  #f1f1f1;\n",
              "        }    #T_d99c67fa_ab3f_11ea_b066_0242ac1c0002row12_col13 {\n",
              "            background-color:  #f7a98b;\n",
              "            color:  #000000;\n",
              "        }    #T_d99c67fa_ab3f_11ea_b066_0242ac1c0002row13_col0 {\n",
              "            background-color:  #a1c0ff;\n",
              "            color:  #000000;\n",
              "        }    #T_d99c67fa_ab3f_11ea_b066_0242ac1c0002row13_col1 {\n",
              "            background-color:  #a6c4fe;\n",
              "            color:  #000000;\n",
              "        }    #T_d99c67fa_ab3f_11ea_b066_0242ac1c0002row13_col2 {\n",
              "            background-color:  #7699f6;\n",
              "            color:  #000000;\n",
              "        }    #T_d99c67fa_ab3f_11ea_b066_0242ac1c0002row13_col3 {\n",
              "            background-color:  #485fd1;\n",
              "            color:  #f1f1f1;\n",
              "        }    #T_d99c67fa_ab3f_11ea_b066_0242ac1c0002row13_col4 {\n",
              "            background-color:  #4257c9;\n",
              "            color:  #f1f1f1;\n",
              "        }    #T_d99c67fa_ab3f_11ea_b066_0242ac1c0002row13_col5 {\n",
              "            background-color:  #e9d5cb;\n",
              "            color:  #000000;\n",
              "        }    #T_d99c67fa_ab3f_11ea_b066_0242ac1c0002row13_col6 {\n",
              "            background-color:  #80a3fa;\n",
              "            color:  #000000;\n",
              "        }    #T_d99c67fa_ab3f_11ea_b066_0242ac1c0002row13_col7 {\n",
              "            background-color:  #000000;\n",
              "            color:  #f1f1f1;\n",
              "        }    #T_d99c67fa_ab3f_11ea_b066_0242ac1c0002row13_col8 {\n",
              "            background-color:  #000000;\n",
              "            color:  #f1f1f1;\n",
              "        }    #T_d99c67fa_ab3f_11ea_b066_0242ac1c0002row13_col9 {\n",
              "            background-color:  #e0dbd8;\n",
              "            color:  #000000;\n",
              "        }    #T_d99c67fa_ab3f_11ea_b066_0242ac1c0002row13_col10 {\n",
              "            background-color:  #000000;\n",
              "            color:  #f1f1f1;\n",
              "        }    #T_d99c67fa_ab3f_11ea_b066_0242ac1c0002row13_col11 {\n",
              "            background-color:  #4257c9;\n",
              "            color:  #f1f1f1;\n",
              "        }    #T_d99c67fa_ab3f_11ea_b066_0242ac1c0002row13_col12 {\n",
              "            background-color:  #f7a889;\n",
              "            color:  #000000;\n",
              "        }    #T_d99c67fa_ab3f_11ea_b066_0242ac1c0002row13_col13 {\n",
              "            background-color:  #b40426;\n",
              "            color:  #f1f1f1;\n",
              "        }</style><table id=\"T_d99c67fa_ab3f_11ea_b066_0242ac1c0002\" ><thead>    <tr>        <th class=\"blank level0\" ></th>        <th class=\"col_heading level0 col0\" >lang</th>        <th class=\"col_heading level0 col1\" >retweet_count</th>        <th class=\"col_heading level0 col2\" >original_author</th>        <th class=\"col_heading level0 col3\" >word_count</th>        <th class=\"col_heading level0 col4\" >char_count</th>        <th class=\"col_heading level0 col5\" >avg_word</th>        <th class=\"col_heading level0 col6\" >stopwords</th>        <th class=\"col_heading level0 col7\" >numerics</th>        <th class=\"col_heading level0 col8\" >upper</th>        <th class=\"col_heading level0 col9\" >word_density</th>        <th class=\"col_heading level0 col10\" >punctuation_count</th>        <th class=\"col_heading level0 col11\" >len</th>        <th class=\"col_heading level0 col12\" >polarity</th>        <th class=\"col_heading level0 col13\" >subjectivity</th>    </tr></thead><tbody>\n",
              "                <tr>\n",
              "                        <th id=\"T_d99c67fa_ab3f_11ea_b066_0242ac1c0002level0_row0\" class=\"row_heading level0 row0\" >lang</th>\n",
              "                        <td id=\"T_d99c67fa_ab3f_11ea_b066_0242ac1c0002row0_col0\" class=\"data row0 col0\" >1.00000</td>\n",
              "                        <td id=\"T_d99c67fa_ab3f_11ea_b066_0242ac1c0002row0_col1\" class=\"data row0 col1\" >-0.46469</td>\n",
              "                        <td id=\"T_d99c67fa_ab3f_11ea_b066_0242ac1c0002row0_col2\" class=\"data row0 col2\" >0.36968</td>\n",
              "                        <td id=\"T_d99c67fa_ab3f_11ea_b066_0242ac1c0002row0_col3\" class=\"data row0 col3\" >-0.00289</td>\n",
              "                        <td id=\"T_d99c67fa_ab3f_11ea_b066_0242ac1c0002row0_col4\" class=\"data row0 col4\" >-0.00187</td>\n",
              "                        <td id=\"T_d99c67fa_ab3f_11ea_b066_0242ac1c0002row0_col5\" class=\"data row0 col5\" >-0.00080</td>\n",
              "                        <td id=\"T_d99c67fa_ab3f_11ea_b066_0242ac1c0002row0_col6\" class=\"data row0 col6\" >-0.01608</td>\n",
              "                        <td id=\"T_d99c67fa_ab3f_11ea_b066_0242ac1c0002row0_col7\" class=\"data row0 col7\" >nan</td>\n",
              "                        <td id=\"T_d99c67fa_ab3f_11ea_b066_0242ac1c0002row0_col8\" class=\"data row0 col8\" >nan</td>\n",
              "                        <td id=\"T_d99c67fa_ab3f_11ea_b066_0242ac1c0002row0_col9\" class=\"data row0 col9\" >-0.00046</td>\n",
              "                        <td id=\"T_d99c67fa_ab3f_11ea_b066_0242ac1c0002row0_col10\" class=\"data row0 col10\" >nan</td>\n",
              "                        <td id=\"T_d99c67fa_ab3f_11ea_b066_0242ac1c0002row0_col11\" class=\"data row0 col11\" >-0.00187</td>\n",
              "                        <td id=\"T_d99c67fa_ab3f_11ea_b066_0242ac1c0002row0_col12\" class=\"data row0 col12\" >-0.01484</td>\n",
              "                        <td id=\"T_d99c67fa_ab3f_11ea_b066_0242ac1c0002row0_col13\" class=\"data row0 col13\" >-0.01373</td>\n",
              "            </tr>\n",
              "            <tr>\n",
              "                        <th id=\"T_d99c67fa_ab3f_11ea_b066_0242ac1c0002level0_row1\" class=\"row_heading level0 row1\" >retweet_count</th>\n",
              "                        <td id=\"T_d99c67fa_ab3f_11ea_b066_0242ac1c0002row1_col0\" class=\"data row1 col0\" >-0.46469</td>\n",
              "                        <td id=\"T_d99c67fa_ab3f_11ea_b066_0242ac1c0002row1_col1\" class=\"data row1 col1\" >1.00000</td>\n",
              "                        <td id=\"T_d99c67fa_ab3f_11ea_b066_0242ac1c0002row1_col2\" class=\"data row1 col2\" >-0.22230</td>\n",
              "                        <td id=\"T_d99c67fa_ab3f_11ea_b066_0242ac1c0002row1_col3\" class=\"data row1 col3\" >0.00102</td>\n",
              "                        <td id=\"T_d99c67fa_ab3f_11ea_b066_0242ac1c0002row1_col4\" class=\"data row1 col4\" >-0.00323</td>\n",
              "                        <td id=\"T_d99c67fa_ab3f_11ea_b066_0242ac1c0002row1_col5\" class=\"data row1 col5\" >-0.01038</td>\n",
              "                        <td id=\"T_d99c67fa_ab3f_11ea_b066_0242ac1c0002row1_col6\" class=\"data row1 col6\" >0.01194</td>\n",
              "                        <td id=\"T_d99c67fa_ab3f_11ea_b066_0242ac1c0002row1_col7\" class=\"data row1 col7\" >nan</td>\n",
              "                        <td id=\"T_d99c67fa_ab3f_11ea_b066_0242ac1c0002row1_col8\" class=\"data row1 col8\" >nan</td>\n",
              "                        <td id=\"T_d99c67fa_ab3f_11ea_b066_0242ac1c0002row1_col9\" class=\"data row1 col9\" >-0.01092</td>\n",
              "                        <td id=\"T_d99c67fa_ab3f_11ea_b066_0242ac1c0002row1_col10\" class=\"data row1 col10\" >nan</td>\n",
              "                        <td id=\"T_d99c67fa_ab3f_11ea_b066_0242ac1c0002row1_col11\" class=\"data row1 col11\" >-0.00323</td>\n",
              "                        <td id=\"T_d99c67fa_ab3f_11ea_b066_0242ac1c0002row1_col12\" class=\"data row1 col12\" >0.01611</td>\n",
              "                        <td id=\"T_d99c67fa_ab3f_11ea_b066_0242ac1c0002row1_col13\" class=\"data row1 col13\" >0.00664</td>\n",
              "            </tr>\n",
              "            <tr>\n",
              "                        <th id=\"T_d99c67fa_ab3f_11ea_b066_0242ac1c0002level0_row2\" class=\"row_heading level0 row2\" >original_author</th>\n",
              "                        <td id=\"T_d99c67fa_ab3f_11ea_b066_0242ac1c0002row2_col0\" class=\"data row2 col0\" >0.36968</td>\n",
              "                        <td id=\"T_d99c67fa_ab3f_11ea_b066_0242ac1c0002row2_col1\" class=\"data row2 col1\" >-0.22230</td>\n",
              "                        <td id=\"T_d99c67fa_ab3f_11ea_b066_0242ac1c0002row2_col2\" class=\"data row2 col2\" >1.00000</td>\n",
              "                        <td id=\"T_d99c67fa_ab3f_11ea_b066_0242ac1c0002row2_col3\" class=\"data row2 col3\" >-0.00660</td>\n",
              "                        <td id=\"T_d99c67fa_ab3f_11ea_b066_0242ac1c0002row2_col4\" class=\"data row2 col4\" >-0.00091</td>\n",
              "                        <td id=\"T_d99c67fa_ab3f_11ea_b066_0242ac1c0002row2_col5\" class=\"data row2 col5\" >0.01479</td>\n",
              "                        <td id=\"T_d99c67fa_ab3f_11ea_b066_0242ac1c0002row2_col6\" class=\"data row2 col6\" >-0.01452</td>\n",
              "                        <td id=\"T_d99c67fa_ab3f_11ea_b066_0242ac1c0002row2_col7\" class=\"data row2 col7\" >nan</td>\n",
              "                        <td id=\"T_d99c67fa_ab3f_11ea_b066_0242ac1c0002row2_col8\" class=\"data row2 col8\" >nan</td>\n",
              "                        <td id=\"T_d99c67fa_ab3f_11ea_b066_0242ac1c0002row2_col9\" class=\"data row2 col9\" >0.01718</td>\n",
              "                        <td id=\"T_d99c67fa_ab3f_11ea_b066_0242ac1c0002row2_col10\" class=\"data row2 col10\" >nan</td>\n",
              "                        <td id=\"T_d99c67fa_ab3f_11ea_b066_0242ac1c0002row2_col11\" class=\"data row2 col11\" >-0.00091</td>\n",
              "                        <td id=\"T_d99c67fa_ab3f_11ea_b066_0242ac1c0002row2_col12\" class=\"data row2 col12\" >-0.01777</td>\n",
              "                        <td id=\"T_d99c67fa_ab3f_11ea_b066_0242ac1c0002row2_col13\" class=\"data row2 col13\" >0.00255</td>\n",
              "            </tr>\n",
              "            <tr>\n",
              "                        <th id=\"T_d99c67fa_ab3f_11ea_b066_0242ac1c0002level0_row3\" class=\"row_heading level0 row3\" >word_count</th>\n",
              "                        <td id=\"T_d99c67fa_ab3f_11ea_b066_0242ac1c0002row3_col0\" class=\"data row3 col0\" >-0.00289</td>\n",
              "                        <td id=\"T_d99c67fa_ab3f_11ea_b066_0242ac1c0002row3_col1\" class=\"data row3 col1\" >0.00102</td>\n",
              "                        <td id=\"T_d99c67fa_ab3f_11ea_b066_0242ac1c0002row3_col2\" class=\"data row3 col2\" >-0.00660</td>\n",
              "                        <td id=\"T_d99c67fa_ab3f_11ea_b066_0242ac1c0002row3_col3\" class=\"data row3 col3\" >1.00000</td>\n",
              "                        <td id=\"T_d99c67fa_ab3f_11ea_b066_0242ac1c0002row3_col4\" class=\"data row3 col4\" >0.89913</td>\n",
              "                        <td id=\"T_d99c67fa_ab3f_11ea_b066_0242ac1c0002row3_col5\" class=\"data row3 col5\" >-0.36975</td>\n",
              "                        <td id=\"T_d99c67fa_ab3f_11ea_b066_0242ac1c0002row3_col6\" class=\"data row3 col6\" >0.77114</td>\n",
              "                        <td id=\"T_d99c67fa_ab3f_11ea_b066_0242ac1c0002row3_col7\" class=\"data row3 col7\" >nan</td>\n",
              "                        <td id=\"T_d99c67fa_ab3f_11ea_b066_0242ac1c0002row3_col8\" class=\"data row3 col8\" >nan</td>\n",
              "                        <td id=\"T_d99c67fa_ab3f_11ea_b066_0242ac1c0002row3_col9\" class=\"data row3 col9\" >-0.28232</td>\n",
              "                        <td id=\"T_d99c67fa_ab3f_11ea_b066_0242ac1c0002row3_col10\" class=\"data row3 col10\" >nan</td>\n",
              "                        <td id=\"T_d99c67fa_ab3f_11ea_b066_0242ac1c0002row3_col11\" class=\"data row3 col11\" >0.89913</td>\n",
              "                        <td id=\"T_d99c67fa_ab3f_11ea_b066_0242ac1c0002row3_col12\" class=\"data row3 col12\" >-0.33763</td>\n",
              "                        <td id=\"T_d99c67fa_ab3f_11ea_b066_0242ac1c0002row3_col13\" class=\"data row3 col13\" >-0.30989</td>\n",
              "            </tr>\n",
              "            <tr>\n",
              "                        <th id=\"T_d99c67fa_ab3f_11ea_b066_0242ac1c0002level0_row4\" class=\"row_heading level0 row4\" >char_count</th>\n",
              "                        <td id=\"T_d99c67fa_ab3f_11ea_b066_0242ac1c0002row4_col0\" class=\"data row4 col0\" >-0.00187</td>\n",
              "                        <td id=\"T_d99c67fa_ab3f_11ea_b066_0242ac1c0002row4_col1\" class=\"data row4 col1\" >-0.00323</td>\n",
              "                        <td id=\"T_d99c67fa_ab3f_11ea_b066_0242ac1c0002row4_col2\" class=\"data row4 col2\" >-0.00091</td>\n",
              "                        <td id=\"T_d99c67fa_ab3f_11ea_b066_0242ac1c0002row4_col3\" class=\"data row4 col3\" >0.89913</td>\n",
              "                        <td id=\"T_d99c67fa_ab3f_11ea_b066_0242ac1c0002row4_col4\" class=\"data row4 col4\" >1.00000</td>\n",
              "                        <td id=\"T_d99c67fa_ab3f_11ea_b066_0242ac1c0002row4_col5\" class=\"data row4 col5\" >0.05512</td>\n",
              "                        <td id=\"T_d99c67fa_ab3f_11ea_b066_0242ac1c0002row4_col6\" class=\"data row4 col6\" >0.53981</td>\n",
              "                        <td id=\"T_d99c67fa_ab3f_11ea_b066_0242ac1c0002row4_col7\" class=\"data row4 col7\" >nan</td>\n",
              "                        <td id=\"T_d99c67fa_ab3f_11ea_b066_0242ac1c0002row4_col8\" class=\"data row4 col8\" >nan</td>\n",
              "                        <td id=\"T_d99c67fa_ab3f_11ea_b066_0242ac1c0002row4_col9\" class=\"data row4 col9\" >0.14840</td>\n",
              "                        <td id=\"T_d99c67fa_ab3f_11ea_b066_0242ac1c0002row4_col10\" class=\"data row4 col10\" >nan</td>\n",
              "                        <td id=\"T_d99c67fa_ab3f_11ea_b066_0242ac1c0002row4_col11\" class=\"data row4 col11\" >1.00000</td>\n",
              "                        <td id=\"T_d99c67fa_ab3f_11ea_b066_0242ac1c0002row4_col12\" class=\"data row4 col12\" >-0.23424</td>\n",
              "                        <td id=\"T_d99c67fa_ab3f_11ea_b066_0242ac1c0002row4_col13\" class=\"data row4 col13\" >-0.20488</td>\n",
              "            </tr>\n",
              "            <tr>\n",
              "                        <th id=\"T_d99c67fa_ab3f_11ea_b066_0242ac1c0002level0_row5\" class=\"row_heading level0 row5\" >avg_word</th>\n",
              "                        <td id=\"T_d99c67fa_ab3f_11ea_b066_0242ac1c0002row5_col0\" class=\"data row5 col0\" >-0.00080</td>\n",
              "                        <td id=\"T_d99c67fa_ab3f_11ea_b066_0242ac1c0002row5_col1\" class=\"data row5 col1\" >-0.01038</td>\n",
              "                        <td id=\"T_d99c67fa_ab3f_11ea_b066_0242ac1c0002row5_col2\" class=\"data row5 col2\" >0.01479</td>\n",
              "                        <td id=\"T_d99c67fa_ab3f_11ea_b066_0242ac1c0002row5_col3\" class=\"data row5 col3\" >-0.36975</td>\n",
              "                        <td id=\"T_d99c67fa_ab3f_11ea_b066_0242ac1c0002row5_col4\" class=\"data row5 col4\" >0.05512</td>\n",
              "                        <td id=\"T_d99c67fa_ab3f_11ea_b066_0242ac1c0002row5_col5\" class=\"data row5 col5\" >1.00000</td>\n",
              "                        <td id=\"T_d99c67fa_ab3f_11ea_b066_0242ac1c0002row5_col6\" class=\"data row5 col6\" >-0.58320</td>\n",
              "                        <td id=\"T_d99c67fa_ab3f_11ea_b066_0242ac1c0002row5_col7\" class=\"data row5 col7\" >nan</td>\n",
              "                        <td id=\"T_d99c67fa_ab3f_11ea_b066_0242ac1c0002row5_col8\" class=\"data row5 col8\" >nan</td>\n",
              "                        <td id=\"T_d99c67fa_ab3f_11ea_b066_0242ac1c0002row5_col9\" class=\"data row5 col9\" >0.99381</td>\n",
              "                        <td id=\"T_d99c67fa_ab3f_11ea_b066_0242ac1c0002row5_col10\" class=\"data row5 col10\" >nan</td>\n",
              "                        <td id=\"T_d99c67fa_ab3f_11ea_b066_0242ac1c0002row5_col11\" class=\"data row5 col11\" >0.05512</td>\n",
              "                        <td id=\"T_d99c67fa_ab3f_11ea_b066_0242ac1c0002row5_col12\" class=\"data row5 col12\" >0.28149</td>\n",
              "                        <td id=\"T_d99c67fa_ab3f_11ea_b066_0242ac1c0002row5_col13\" class=\"data row5 col13\" >0.28599</td>\n",
              "            </tr>\n",
              "            <tr>\n",
              "                        <th id=\"T_d99c67fa_ab3f_11ea_b066_0242ac1c0002level0_row6\" class=\"row_heading level0 row6\" >stopwords</th>\n",
              "                        <td id=\"T_d99c67fa_ab3f_11ea_b066_0242ac1c0002row6_col0\" class=\"data row6 col0\" >-0.01608</td>\n",
              "                        <td id=\"T_d99c67fa_ab3f_11ea_b066_0242ac1c0002row6_col1\" class=\"data row6 col1\" >0.01194</td>\n",
              "                        <td id=\"T_d99c67fa_ab3f_11ea_b066_0242ac1c0002row6_col2\" class=\"data row6 col2\" >-0.01452</td>\n",
              "                        <td id=\"T_d99c67fa_ab3f_11ea_b066_0242ac1c0002row6_col3\" class=\"data row6 col3\" >0.77114</td>\n",
              "                        <td id=\"T_d99c67fa_ab3f_11ea_b066_0242ac1c0002row6_col4\" class=\"data row6 col4\" >0.53981</td>\n",
              "                        <td id=\"T_d99c67fa_ab3f_11ea_b066_0242ac1c0002row6_col5\" class=\"data row6 col5\" >-0.58320</td>\n",
              "                        <td id=\"T_d99c67fa_ab3f_11ea_b066_0242ac1c0002row6_col6\" class=\"data row6 col6\" >1.00000</td>\n",
              "                        <td id=\"T_d99c67fa_ab3f_11ea_b066_0242ac1c0002row6_col7\" class=\"data row6 col7\" >nan</td>\n",
              "                        <td id=\"T_d99c67fa_ab3f_11ea_b066_0242ac1c0002row6_col8\" class=\"data row6 col8\" >nan</td>\n",
              "                        <td id=\"T_d99c67fa_ab3f_11ea_b066_0242ac1c0002row6_col9\" class=\"data row6 col9\" >-0.52771</td>\n",
              "                        <td id=\"T_d99c67fa_ab3f_11ea_b066_0242ac1c0002row6_col10\" class=\"data row6 col10\" >nan</td>\n",
              "                        <td id=\"T_d99c67fa_ab3f_11ea_b066_0242ac1c0002row6_col11\" class=\"data row6 col11\" >0.53981</td>\n",
              "                        <td id=\"T_d99c67fa_ab3f_11ea_b066_0242ac1c0002row6_col12\" class=\"data row6 col12\" >-0.30382</td>\n",
              "                        <td id=\"T_d99c67fa_ab3f_11ea_b066_0242ac1c0002row6_col13\" class=\"data row6 col13\" >-0.24917</td>\n",
              "            </tr>\n",
              "            <tr>\n",
              "                        <th id=\"T_d99c67fa_ab3f_11ea_b066_0242ac1c0002level0_row7\" class=\"row_heading level0 row7\" >numerics</th>\n",
              "                        <td id=\"T_d99c67fa_ab3f_11ea_b066_0242ac1c0002row7_col0\" class=\"data row7 col0\" >nan</td>\n",
              "                        <td id=\"T_d99c67fa_ab3f_11ea_b066_0242ac1c0002row7_col1\" class=\"data row7 col1\" >nan</td>\n",
              "                        <td id=\"T_d99c67fa_ab3f_11ea_b066_0242ac1c0002row7_col2\" class=\"data row7 col2\" >nan</td>\n",
              "                        <td id=\"T_d99c67fa_ab3f_11ea_b066_0242ac1c0002row7_col3\" class=\"data row7 col3\" >nan</td>\n",
              "                        <td id=\"T_d99c67fa_ab3f_11ea_b066_0242ac1c0002row7_col4\" class=\"data row7 col4\" >nan</td>\n",
              "                        <td id=\"T_d99c67fa_ab3f_11ea_b066_0242ac1c0002row7_col5\" class=\"data row7 col5\" >nan</td>\n",
              "                        <td id=\"T_d99c67fa_ab3f_11ea_b066_0242ac1c0002row7_col6\" class=\"data row7 col6\" >nan</td>\n",
              "                        <td id=\"T_d99c67fa_ab3f_11ea_b066_0242ac1c0002row7_col7\" class=\"data row7 col7\" >nan</td>\n",
              "                        <td id=\"T_d99c67fa_ab3f_11ea_b066_0242ac1c0002row7_col8\" class=\"data row7 col8\" >nan</td>\n",
              "                        <td id=\"T_d99c67fa_ab3f_11ea_b066_0242ac1c0002row7_col9\" class=\"data row7 col9\" >nan</td>\n",
              "                        <td id=\"T_d99c67fa_ab3f_11ea_b066_0242ac1c0002row7_col10\" class=\"data row7 col10\" >nan</td>\n",
              "                        <td id=\"T_d99c67fa_ab3f_11ea_b066_0242ac1c0002row7_col11\" class=\"data row7 col11\" >nan</td>\n",
              "                        <td id=\"T_d99c67fa_ab3f_11ea_b066_0242ac1c0002row7_col12\" class=\"data row7 col12\" >nan</td>\n",
              "                        <td id=\"T_d99c67fa_ab3f_11ea_b066_0242ac1c0002row7_col13\" class=\"data row7 col13\" >nan</td>\n",
              "            </tr>\n",
              "            <tr>\n",
              "                        <th id=\"T_d99c67fa_ab3f_11ea_b066_0242ac1c0002level0_row8\" class=\"row_heading level0 row8\" >upper</th>\n",
              "                        <td id=\"T_d99c67fa_ab3f_11ea_b066_0242ac1c0002row8_col0\" class=\"data row8 col0\" >nan</td>\n",
              "                        <td id=\"T_d99c67fa_ab3f_11ea_b066_0242ac1c0002row8_col1\" class=\"data row8 col1\" >nan</td>\n",
              "                        <td id=\"T_d99c67fa_ab3f_11ea_b066_0242ac1c0002row8_col2\" class=\"data row8 col2\" >nan</td>\n",
              "                        <td id=\"T_d99c67fa_ab3f_11ea_b066_0242ac1c0002row8_col3\" class=\"data row8 col3\" >nan</td>\n",
              "                        <td id=\"T_d99c67fa_ab3f_11ea_b066_0242ac1c0002row8_col4\" class=\"data row8 col4\" >nan</td>\n",
              "                        <td id=\"T_d99c67fa_ab3f_11ea_b066_0242ac1c0002row8_col5\" class=\"data row8 col5\" >nan</td>\n",
              "                        <td id=\"T_d99c67fa_ab3f_11ea_b066_0242ac1c0002row8_col6\" class=\"data row8 col6\" >nan</td>\n",
              "                        <td id=\"T_d99c67fa_ab3f_11ea_b066_0242ac1c0002row8_col7\" class=\"data row8 col7\" >nan</td>\n",
              "                        <td id=\"T_d99c67fa_ab3f_11ea_b066_0242ac1c0002row8_col8\" class=\"data row8 col8\" >nan</td>\n",
              "                        <td id=\"T_d99c67fa_ab3f_11ea_b066_0242ac1c0002row8_col9\" class=\"data row8 col9\" >nan</td>\n",
              "                        <td id=\"T_d99c67fa_ab3f_11ea_b066_0242ac1c0002row8_col10\" class=\"data row8 col10\" >nan</td>\n",
              "                        <td id=\"T_d99c67fa_ab3f_11ea_b066_0242ac1c0002row8_col11\" class=\"data row8 col11\" >nan</td>\n",
              "                        <td id=\"T_d99c67fa_ab3f_11ea_b066_0242ac1c0002row8_col12\" class=\"data row8 col12\" >nan</td>\n",
              "                        <td id=\"T_d99c67fa_ab3f_11ea_b066_0242ac1c0002row8_col13\" class=\"data row8 col13\" >nan</td>\n",
              "            </tr>\n",
              "            <tr>\n",
              "                        <th id=\"T_d99c67fa_ab3f_11ea_b066_0242ac1c0002level0_row9\" class=\"row_heading level0 row9\" >word_density</th>\n",
              "                        <td id=\"T_d99c67fa_ab3f_11ea_b066_0242ac1c0002row9_col0\" class=\"data row9 col0\" >-0.00046</td>\n",
              "                        <td id=\"T_d99c67fa_ab3f_11ea_b066_0242ac1c0002row9_col1\" class=\"data row9 col1\" >-0.01092</td>\n",
              "                        <td id=\"T_d99c67fa_ab3f_11ea_b066_0242ac1c0002row9_col2\" class=\"data row9 col2\" >0.01718</td>\n",
              "                        <td id=\"T_d99c67fa_ab3f_11ea_b066_0242ac1c0002row9_col3\" class=\"data row9 col3\" >-0.28232</td>\n",
              "                        <td id=\"T_d99c67fa_ab3f_11ea_b066_0242ac1c0002row9_col4\" class=\"data row9 col4\" >0.14840</td>\n",
              "                        <td id=\"T_d99c67fa_ab3f_11ea_b066_0242ac1c0002row9_col5\" class=\"data row9 col5\" >0.99381</td>\n",
              "                        <td id=\"T_d99c67fa_ab3f_11ea_b066_0242ac1c0002row9_col6\" class=\"data row9 col6\" >-0.52771</td>\n",
              "                        <td id=\"T_d99c67fa_ab3f_11ea_b066_0242ac1c0002row9_col7\" class=\"data row9 col7\" >nan</td>\n",
              "                        <td id=\"T_d99c67fa_ab3f_11ea_b066_0242ac1c0002row9_col8\" class=\"data row9 col8\" >nan</td>\n",
              "                        <td id=\"T_d99c67fa_ab3f_11ea_b066_0242ac1c0002row9_col9\" class=\"data row9 col9\" >1.00000</td>\n",
              "                        <td id=\"T_d99c67fa_ab3f_11ea_b066_0242ac1c0002row9_col10\" class=\"data row9 col10\" >nan</td>\n",
              "                        <td id=\"T_d99c67fa_ab3f_11ea_b066_0242ac1c0002row9_col11\" class=\"data row9 col11\" >0.14840</td>\n",
              "                        <td id=\"T_d99c67fa_ab3f_11ea_b066_0242ac1c0002row9_col12\" class=\"data row9 col12\" >0.25374</td>\n",
              "                        <td id=\"T_d99c67fa_ab3f_11ea_b066_0242ac1c0002row9_col13\" class=\"data row9 col13\" >0.25970</td>\n",
              "            </tr>\n",
              "            <tr>\n",
              "                        <th id=\"T_d99c67fa_ab3f_11ea_b066_0242ac1c0002level0_row10\" class=\"row_heading level0 row10\" >punctuation_count</th>\n",
              "                        <td id=\"T_d99c67fa_ab3f_11ea_b066_0242ac1c0002row10_col0\" class=\"data row10 col0\" >nan</td>\n",
              "                        <td id=\"T_d99c67fa_ab3f_11ea_b066_0242ac1c0002row10_col1\" class=\"data row10 col1\" >nan</td>\n",
              "                        <td id=\"T_d99c67fa_ab3f_11ea_b066_0242ac1c0002row10_col2\" class=\"data row10 col2\" >nan</td>\n",
              "                        <td id=\"T_d99c67fa_ab3f_11ea_b066_0242ac1c0002row10_col3\" class=\"data row10 col3\" >nan</td>\n",
              "                        <td id=\"T_d99c67fa_ab3f_11ea_b066_0242ac1c0002row10_col4\" class=\"data row10 col4\" >nan</td>\n",
              "                        <td id=\"T_d99c67fa_ab3f_11ea_b066_0242ac1c0002row10_col5\" class=\"data row10 col5\" >nan</td>\n",
              "                        <td id=\"T_d99c67fa_ab3f_11ea_b066_0242ac1c0002row10_col6\" class=\"data row10 col6\" >nan</td>\n",
              "                        <td id=\"T_d99c67fa_ab3f_11ea_b066_0242ac1c0002row10_col7\" class=\"data row10 col7\" >nan</td>\n",
              "                        <td id=\"T_d99c67fa_ab3f_11ea_b066_0242ac1c0002row10_col8\" class=\"data row10 col8\" >nan</td>\n",
              "                        <td id=\"T_d99c67fa_ab3f_11ea_b066_0242ac1c0002row10_col9\" class=\"data row10 col9\" >nan</td>\n",
              "                        <td id=\"T_d99c67fa_ab3f_11ea_b066_0242ac1c0002row10_col10\" class=\"data row10 col10\" >nan</td>\n",
              "                        <td id=\"T_d99c67fa_ab3f_11ea_b066_0242ac1c0002row10_col11\" class=\"data row10 col11\" >nan</td>\n",
              "                        <td id=\"T_d99c67fa_ab3f_11ea_b066_0242ac1c0002row10_col12\" class=\"data row10 col12\" >nan</td>\n",
              "                        <td id=\"T_d99c67fa_ab3f_11ea_b066_0242ac1c0002row10_col13\" class=\"data row10 col13\" >nan</td>\n",
              "            </tr>\n",
              "            <tr>\n",
              "                        <th id=\"T_d99c67fa_ab3f_11ea_b066_0242ac1c0002level0_row11\" class=\"row_heading level0 row11\" >len</th>\n",
              "                        <td id=\"T_d99c67fa_ab3f_11ea_b066_0242ac1c0002row11_col0\" class=\"data row11 col0\" >-0.00187</td>\n",
              "                        <td id=\"T_d99c67fa_ab3f_11ea_b066_0242ac1c0002row11_col1\" class=\"data row11 col1\" >-0.00323</td>\n",
              "                        <td id=\"T_d99c67fa_ab3f_11ea_b066_0242ac1c0002row11_col2\" class=\"data row11 col2\" >-0.00091</td>\n",
              "                        <td id=\"T_d99c67fa_ab3f_11ea_b066_0242ac1c0002row11_col3\" class=\"data row11 col3\" >0.89913</td>\n",
              "                        <td id=\"T_d99c67fa_ab3f_11ea_b066_0242ac1c0002row11_col4\" class=\"data row11 col4\" >1.00000</td>\n",
              "                        <td id=\"T_d99c67fa_ab3f_11ea_b066_0242ac1c0002row11_col5\" class=\"data row11 col5\" >0.05512</td>\n",
              "                        <td id=\"T_d99c67fa_ab3f_11ea_b066_0242ac1c0002row11_col6\" class=\"data row11 col6\" >0.53981</td>\n",
              "                        <td id=\"T_d99c67fa_ab3f_11ea_b066_0242ac1c0002row11_col7\" class=\"data row11 col7\" >nan</td>\n",
              "                        <td id=\"T_d99c67fa_ab3f_11ea_b066_0242ac1c0002row11_col8\" class=\"data row11 col8\" >nan</td>\n",
              "                        <td id=\"T_d99c67fa_ab3f_11ea_b066_0242ac1c0002row11_col9\" class=\"data row11 col9\" >0.14840</td>\n",
              "                        <td id=\"T_d99c67fa_ab3f_11ea_b066_0242ac1c0002row11_col10\" class=\"data row11 col10\" >nan</td>\n",
              "                        <td id=\"T_d99c67fa_ab3f_11ea_b066_0242ac1c0002row11_col11\" class=\"data row11 col11\" >1.00000</td>\n",
              "                        <td id=\"T_d99c67fa_ab3f_11ea_b066_0242ac1c0002row11_col12\" class=\"data row11 col12\" >-0.23424</td>\n",
              "                        <td id=\"T_d99c67fa_ab3f_11ea_b066_0242ac1c0002row11_col13\" class=\"data row11 col13\" >-0.20488</td>\n",
              "            </tr>\n",
              "            <tr>\n",
              "                        <th id=\"T_d99c67fa_ab3f_11ea_b066_0242ac1c0002level0_row12\" class=\"row_heading level0 row12\" >polarity</th>\n",
              "                        <td id=\"T_d99c67fa_ab3f_11ea_b066_0242ac1c0002row12_col0\" class=\"data row12 col0\" >-0.01484</td>\n",
              "                        <td id=\"T_d99c67fa_ab3f_11ea_b066_0242ac1c0002row12_col1\" class=\"data row12 col1\" >0.01611</td>\n",
              "                        <td id=\"T_d99c67fa_ab3f_11ea_b066_0242ac1c0002row12_col2\" class=\"data row12 col2\" >-0.01777</td>\n",
              "                        <td id=\"T_d99c67fa_ab3f_11ea_b066_0242ac1c0002row12_col3\" class=\"data row12 col3\" >-0.33763</td>\n",
              "                        <td id=\"T_d99c67fa_ab3f_11ea_b066_0242ac1c0002row12_col4\" class=\"data row12 col4\" >-0.23424</td>\n",
              "                        <td id=\"T_d99c67fa_ab3f_11ea_b066_0242ac1c0002row12_col5\" class=\"data row12 col5\" >0.28149</td>\n",
              "                        <td id=\"T_d99c67fa_ab3f_11ea_b066_0242ac1c0002row12_col6\" class=\"data row12 col6\" >-0.30382</td>\n",
              "                        <td id=\"T_d99c67fa_ab3f_11ea_b066_0242ac1c0002row12_col7\" class=\"data row12 col7\" >nan</td>\n",
              "                        <td id=\"T_d99c67fa_ab3f_11ea_b066_0242ac1c0002row12_col8\" class=\"data row12 col8\" >nan</td>\n",
              "                        <td id=\"T_d99c67fa_ab3f_11ea_b066_0242ac1c0002row12_col9\" class=\"data row12 col9\" >0.25374</td>\n",
              "                        <td id=\"T_d99c67fa_ab3f_11ea_b066_0242ac1c0002row12_col10\" class=\"data row12 col10\" >nan</td>\n",
              "                        <td id=\"T_d99c67fa_ab3f_11ea_b066_0242ac1c0002row12_col11\" class=\"data row12 col11\" >-0.23424</td>\n",
              "                        <td id=\"T_d99c67fa_ab3f_11ea_b066_0242ac1c0002row12_col12\" class=\"data row12 col12\" >1.00000</td>\n",
              "                        <td id=\"T_d99c67fa_ab3f_11ea_b066_0242ac1c0002row12_col13\" class=\"data row12 col13\" >0.61642</td>\n",
              "            </tr>\n",
              "            <tr>\n",
              "                        <th id=\"T_d99c67fa_ab3f_11ea_b066_0242ac1c0002level0_row13\" class=\"row_heading level0 row13\" >subjectivity</th>\n",
              "                        <td id=\"T_d99c67fa_ab3f_11ea_b066_0242ac1c0002row13_col0\" class=\"data row13 col0\" >-0.01373</td>\n",
              "                        <td id=\"T_d99c67fa_ab3f_11ea_b066_0242ac1c0002row13_col1\" class=\"data row13 col1\" >0.00664</td>\n",
              "                        <td id=\"T_d99c67fa_ab3f_11ea_b066_0242ac1c0002row13_col2\" class=\"data row13 col2\" >0.00255</td>\n",
              "                        <td id=\"T_d99c67fa_ab3f_11ea_b066_0242ac1c0002row13_col3\" class=\"data row13 col3\" >-0.30989</td>\n",
              "                        <td id=\"T_d99c67fa_ab3f_11ea_b066_0242ac1c0002row13_col4\" class=\"data row13 col4\" >-0.20488</td>\n",
              "                        <td id=\"T_d99c67fa_ab3f_11ea_b066_0242ac1c0002row13_col5\" class=\"data row13 col5\" >0.28599</td>\n",
              "                        <td id=\"T_d99c67fa_ab3f_11ea_b066_0242ac1c0002row13_col6\" class=\"data row13 col6\" >-0.24917</td>\n",
              "                        <td id=\"T_d99c67fa_ab3f_11ea_b066_0242ac1c0002row13_col7\" class=\"data row13 col7\" >nan</td>\n",
              "                        <td id=\"T_d99c67fa_ab3f_11ea_b066_0242ac1c0002row13_col8\" class=\"data row13 col8\" >nan</td>\n",
              "                        <td id=\"T_d99c67fa_ab3f_11ea_b066_0242ac1c0002row13_col9\" class=\"data row13 col9\" >0.25970</td>\n",
              "                        <td id=\"T_d99c67fa_ab3f_11ea_b066_0242ac1c0002row13_col10\" class=\"data row13 col10\" >nan</td>\n",
              "                        <td id=\"T_d99c67fa_ab3f_11ea_b066_0242ac1c0002row13_col11\" class=\"data row13 col11\" >-0.20488</td>\n",
              "                        <td id=\"T_d99c67fa_ab3f_11ea_b066_0242ac1c0002row13_col12\" class=\"data row13 col12\" >0.61642</td>\n",
              "                        <td id=\"T_d99c67fa_ab3f_11ea_b066_0242ac1c0002row13_col13\" class=\"data row13 col13\" >1.00000</td>\n",
              "            </tr>\n",
              "    </tbody></table>"
            ],
            "text/plain": [
              "<pandas.io.formats.style.Styler at 0x7fceec008ac8>"
            ]
          },
          "execution_count": 32,
          "metadata": {
            "tags": []
          },
          "output_type": "execute_result"
        }
      ],
      "source": [
        "y = train.sentiment_class\n",
        "corr = pd.concat(objs=[X, y], axis=1).corr()\n",
        "corr.style.background_gradient(cmap='coolwarm').set_precision(5)"
      ]
    },
    {
      "cell_type": "code",
      "execution_count": null,
      "metadata": {
        "colab": {},
        "colab_type": "code",
        "id": "Zri9v6PAw9Z_"
      },
      "outputs": [],
      "source": [
        "X_test = test.drop(columns=['id'])\n",
        "concat = pd.concat(objs=[X, X_test], axis=0)"
      ]
    },
    {
      "cell_type": "code",
      "execution_count": null,
      "metadata": {
        "colab": {},
        "colab_type": "code",
        "id": "0nh1k4t_xKNG"
      },
      "outputs": [],
      "source": [
        "#concat.drop(columns=['numerics','upper','punctuation_count'\n",
        "#                     ], inplace=True)\n",
        "\n",
        "ss = StandardScaler()\n",
        "concat = ss.fit_transform(concat)\n",
        "\n",
        "X, X_test = concat[:len(train), :], concat[len(train):, :]"
      ]
    },
    {
      "cell_type": "code",
      "execution_count": null,
      "metadata": {
        "colab": {
          "base_uri": "https://localhost:8080/",
          "height": 67
        },
        "colab_type": "code",
        "id": "UtSJa5RCxNBu",
        "outputId": "48c1ace4-257b-455f-d837-2453fecd737d"
      },
      "outputs": [
        {
          "name": "stderr",
          "output_type": "stream",
          "text": [
            "[Parallel(n_jobs=-1)]: Using backend LokyBackend with 2 concurrent workers.\n",
            "[Parallel(n_jobs=-1)]: Done  45 out of  45 | elapsed:   11.9s finished\n"
          ]
        },
        {
          "data": {
            "text/plain": [
              "0.414017782020411"
            ]
          },
          "execution_count": 49,
          "metadata": {
            "tags": []
          },
          "output_type": "execute_result"
        }
      ],
      "source": [
        "rfc = RandomForestClassifier(n_estimators=10, n_jobs=-1, random_state=42, max_features=0.9 , bootstrap=False)\n",
        "cross_val_score(rfc, X, y, cv=45, n_jobs=-1, verbose=1, scoring='f1_weighted').mean()"
      ]
    },
    {
      "cell_type": "code",
      "execution_count": null,
      "metadata": {
        "colab": {
          "base_uri": "https://localhost:8080/",
          "height": 67
        },
        "colab_type": "code",
        "id": "qRG-qj6lxPgg",
        "outputId": "bbdd2d78-de92-4407-bd46-27268a17d614"
      },
      "outputs": [
        {
          "name": "stderr",
          "output_type": "stream",
          "text": [
            "[Parallel(n_jobs=-1)]: Using backend LokyBackend with 2 concurrent workers.\n",
            "[Parallel(n_jobs=-1)]: Done   5 out of   5 | elapsed:    8.9s finished\n"
          ]
        },
        {
          "data": {
            "text/plain": [
              "0.3624010477350295"
            ]
          },
          "execution_count": 50,
          "metadata": {
            "tags": []
          },
          "output_type": "execute_result"
        }
      ],
      "source": [
        "nnc = MLPClassifier(hidden_layer_sizes=(10,5), max_iter=100,activation = 'logistic',solver='adam', \n",
        "                           random_state=42, batch_size=50)\n",
        "cross_val_score(nnc, X, y, cv=5, n_jobs=-1, verbose=1, scoring='f1_weighted').mean()"
      ]
    },
    {
      "cell_type": "code",
      "execution_count": 35,
      "metadata": {
        "colab": {
          "base_uri": "https://localhost:8080/",
          "height": 67
        },
        "colab_type": "code",
        "id": "OSZizQYZx64Z",
        "outputId": "c9f1599a-0fe2-4017-a348-71cbd96cace0"
      },
      "outputs": [
        {
          "name": "stderr",
          "output_type": "stream",
          "text": [
            "[Parallel(n_jobs=-1)]: Using backend LokyBackend with 2 concurrent workers.\n",
            "[Parallel(n_jobs=-1)]: Done   5 out of   5 | elapsed:    0.5s finished\n"
          ]
        },
        {
          "data": {
            "text/plain": [
              "0.4180324833036491"
            ]
          },
          "execution_count": 35,
          "metadata": {
            "tags": []
          },
          "output_type": "execute_result"
        }
      ],
      "source": [
        "knc = KNeighborsClassifier(n_neighbors=3, n_jobs=-1)\n",
        "cross_val_score(knc, X, y, cv=5, n_jobs=-1, verbose=1, scoring='f1_weighted').mean()"
      ]
    },
    {
      "cell_type": "code",
      "execution_count": 84,
      "metadata": {
        "colab": {
          "base_uri": "https://localhost:8080/",
          "height": 67
        },
        "colab_type": "code",
        "id": "YIEkCfGOx-OU",
        "outputId": "5ac81cad-6344-4506-cae0-4ff77d4848cf"
      },
      "outputs": [
        {
          "name": "stderr",
          "output_type": "stream",
          "text": [
            "[Parallel(n_jobs=-1)]: Using backend LokyBackend with 2 concurrent workers.\n",
            "[Parallel(n_jobs=-1)]: Done  15 out of  15 | elapsed:   22.6s finished\n"
          ]
        },
        {
          "data": {
            "text/plain": [
              "0.4226376190378294"
            ]
          },
          "execution_count": 84,
          "metadata": {
            "tags": []
          },
          "output_type": "execute_result"
        }
      ],
      "source": [
        "lgbmc = LGBMClassifier(random_state=42, n_estimators=410, colsample_bytree=1, \n",
        "                       max_depth=31, learning_rate=0.1, boosting_type='gbdt')\n",
        "cross_val_score(lgbmc, X, y, cv=15, n_jobs=-1, verbose=1, scoring='f1_weighted').mean()\n",
        "#0.4241955035198435 #400 #0.1 #15\n"
      ]
    },
    {
      "cell_type": "code",
      "execution_count": 118,
      "metadata": {
        "colab": {
          "base_uri": "https://localhost:8080/",
          "height": 67
        },
        "colab_type": "code",
        "id": "y2s4elPbx_4N",
        "outputId": "7d299339-14f3-4b5d-906d-d20978437ca3"
      },
      "outputs": [
        {
          "name": "stderr",
          "output_type": "stream",
          "text": [
            "[Parallel(n_jobs=-1)]: Using backend LokyBackend with 2 concurrent workers.\n",
            "[Parallel(n_jobs=-1)]: Done  15 out of  15 | elapsed:   18.2s finished\n"
          ]
        },
        {
          "data": {
            "text/plain": [
              "0.4266809042540095"
            ]
          },
          "execution_count": 118,
          "metadata": {
            "tags": []
          },
          "output_type": "execute_result"
        }
      ],
      "source": [
        "xgbc = XGBClassifier(seed=7, n_jobs=-1, n_estimators=25, random_state=42, max_depth=31, learning_rate=0.1)\n",
        "cross_val_score(xgbc, X, y, cv=15, n_jobs=-1, verbose=1, scoring='f1_weighted').mean()"
      ]
    },
    {
      "cell_type": "code",
      "execution_count": 92,
      "metadata": {
        "colab": {
          "base_uri": "https://localhost:8080/",
          "height": 67
        },
        "colab_type": "code",
        "id": "hmwN7zgEyB3i",
        "outputId": "bd8d4d66-f112-431c-bd2f-a4ce33508dfe"
      },
      "outputs": [
        {
          "name": "stderr",
          "output_type": "stream",
          "text": [
            "[Parallel(n_jobs=-1)]: Using backend LokyBackend with 2 concurrent workers.\n",
            "[Parallel(n_jobs=-1)]: Done  15 out of  15 | elapsed:   29.7s finished\n"
          ]
        },
        {
          "data": {
            "text/plain": [
              "0.4227931313908444"
            ]
          },
          "execution_count": 92,
          "metadata": {
            "tags": []
          },
          "output_type": "execute_result"
        }
      ],
      "source": [
        "from sklearn.ensemble import VotingClassifier\n",
        "ensemble = VotingClassifier(estimators=[#('rfc', rfc), \n",
        "                                        ('xgbc', xgbc),\n",
        "                                        ('lgbmc', lgbmc)],\n",
        "                                         voting='soft', n_jobs=-1)\n",
        "cross_val_score(ensemble, X, y, cv=15, n_jobs=-1, verbose=1, scoring='f1_weighted').mean()"
      ]
    },
    {
      "cell_type": "code",
      "execution_count": null,
      "metadata": {
        "colab": {},
        "colab_type": "code",
        "id": "c2OcLUJXyKPR"
      },
      "outputs": [],
      "source": [
        "lgbmc.fit(X, y)\n",
        "j = lgbmc.predict(X_test)\n",
        "sub = pd.DataFrame(data={'id' : test.id, 'sentiment_class' : j})\n",
        "#sub.to_csv('mhack.csv', index=False)"
      ]
    },
    {
      "cell_type": "code",
      "execution_count": null,
      "metadata": {
        "colab": {},
        "colab_type": "code",
        "id": "OvHaJdDDyjMY"
      },
      "outputs": [],
      "source": [
        "m=[]\n",
        "for i in sub['sentiment_class']:\n",
        "    if i=='A':\n",
        "        m.append('0')\n",
        "    elif i=='B':\n",
        "        m.append('1')\n",
        "    else:\n",
        "        m.append('-1')\n",
        "sub['sentiment_class']=m"
      ]
    },
    {
      "cell_type": "code",
      "execution_count": 121,
      "metadata": {
        "colab": {
          "base_uri": "https://localhost:8080/",
          "height": 104
        },
        "colab_type": "code",
        "id": "Z1N34sDry_Io",
        "outputId": "8c6a657b-9d7b-4b40-8c1e-cf55c293137b"
      },
      "outputs": [
        {
          "data": {
            "text/html": [
              "<div>\n",
              "<style scoped>\n",
              "    .dataframe tbody tr th:only-of-type {\n",
              "        vertical-align: middle;\n",
              "    }\n",
              "\n",
              "    .dataframe tbody tr th {\n",
              "        vertical-align: top;\n",
              "    }\n",
              "\n",
              "    .dataframe thead th {\n",
              "        text-align: right;\n",
              "    }\n",
              "</style>\n",
              "<table border=\"1\" class=\"dataframe\">\n",
              "  <thead>\n",
              "    <tr style=\"text-align: right;\">\n",
              "      <th></th>\n",
              "      <th>id</th>\n",
              "      <th>sentiment_class</th>\n",
              "    </tr>\n",
              "  </thead>\n",
              "  <tbody>\n",
              "    <tr>\n",
              "      <th>3235</th>\n",
              "      <td>1.246628e+18</td>\n",
              "      <td>0</td>\n",
              "    </tr>\n",
              "    <tr>\n",
              "      <th>3236</th>\n",
              "      <td>1.245898e+18</td>\n",
              "      <td>0</td>\n",
              "    </tr>\n",
              "  </tbody>\n",
              "</table>\n",
              "</div>"
            ],
            "text/plain": [
              "                id sentiment_class\n",
              "3235  1.246628e+18               0\n",
              "3236  1.245898e+18               0"
            ]
          },
          "execution_count": 121,
          "metadata": {
            "tags": []
          },
          "output_type": "execute_result"
        }
      ],
      "source": [
        "sub.head(2)"
      ]
    },
    {
      "cell_type": "code",
      "execution_count": 122,
      "metadata": {
        "colab": {
          "base_uri": "https://localhost:8080/",
          "height": 84
        },
        "colab_type": "code",
        "id": "xkh2VTBYb1HB",
        "outputId": "77da7801-a95d-4e86-c6d6-e7a0b57ff974"
      },
      "outputs": [
        {
          "data": {
            "text/plain": [
              "0     908\n",
              "-1    247\n",
              "1     232\n",
              "Name: sentiment_class, dtype: int64"
            ]
          },
          "execution_count": 122,
          "metadata": {
            "tags": []
          },
          "output_type": "execute_result"
        }
      ],
      "source": [
        "sub['sentiment_class'].value_counts()"
      ]
    },
    {
      "cell_type": "code",
      "execution_count": null,
      "metadata": {
        "colab": {},
        "colab_type": "code",
        "id": "v_hxLE6ozBBg"
      },
      "outputs": [],
      "source": [
        "sub.to_csv('ag.csv', index=False)"
      ]
    },
    {
      "cell_type": "code",
      "execution_count": null,
      "metadata": {
        "colab": {},
        "colab_type": "code",
        "id": "CFgWibQfyUjs"
      },
      "outputs": [],
      "source": [
        "from google.colab import files\n",
        "files.download('ag.csv')"
      ]
    }
  ],
  "metadata": {
    "colab": {
      "collapsed_sections": [],
      "name": "HackerEarth Machine Learning challenge: Mothers’ Day with Machine Learning.ipynb",
      "provenance": []
    },
    "kernelspec": {
      "display_name": "Python 3",
      "name": "python3"
    },
    "language_info": {
      "codemirror_mode": {
        "name": "ipython",
        "version": 3
      },
      "file_extension": ".py",
      "mimetype": "text/x-python",
      "name": "python",
      "nbconvert_exporter": "python",
      "pygments_lexer": "ipython3",
      "version": "3.9.16"
    }
  },
  "nbformat": 4,
  "nbformat_minor": 0
}
